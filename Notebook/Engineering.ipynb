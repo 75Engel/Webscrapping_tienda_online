{
 "cells": [
  {
   "attachments": {},
   "cell_type": "markdown",
   "metadata": {},
   "source": [
    "# Realizando ingeniería de datos para realizar transformación y generación de nuevas variables"
   ]
  },
  {
   "attachments": {},
   "cell_type": "markdown",
   "metadata": {},
   "source": [
    "## 1.- Importamos las librerías necesarias y preparamos las funciones oportunas."
   ]
  },
  {
   "cell_type": "code",
   "execution_count": 1,
   "metadata": {},
   "outputs": [],
   "source": [
    "import pandas as pd\n",
    "import numpy as np\n",
    "import os\n",
    "import pickle\n",
    "import re\n",
    "import spacy\n",
    "from nltk.stem.snowball import SnowballStemmer\n",
    "import datetime\n",
    "\n",
    "nlp = spacy.load('es_core_news_lg')"
   ]
  },
  {
   "cell_type": "code",
   "execution_count": 2,
   "metadata": {},
   "outputs": [],
   "source": [
    "pd.set_option('display.max_colwidth', None)       # Visualizar todas las columnas\n",
    "pd.set_option('display.max_rows', None)           # Visualizar todas las filas"
   ]
  },
  {
   "attachments": {},
   "cell_type": "markdown",
   "metadata": {},
   "source": [
    "### Obtenemos los datos guardados."
   ]
  },
  {
   "cell_type": "code",
   "execution_count": 3,
   "metadata": {},
   "outputs": [],
   "source": [
    "path=r'Data\\productos_scrape.csv'"
   ]
  },
  {
   "cell_type": "code",
   "execution_count": 5,
   "metadata": {},
   "outputs": [
    {
     "data": {
      "text/plain": [
       "'d:\\\\Data_science\\\\Javier\\\\Repositorios\\\\Proyecto_tienda_online_webscrapping'"
      ]
     },
     "execution_count": 5,
     "metadata": {},
     "output_type": "execute_result"
    }
   ],
   "source": [
    "os.chdir(os.path.split(os.getcwd())[0])\n",
    "folder=os.getcwd()\n",
    "folder"
   ]
  },
  {
   "cell_type": "code",
   "execution_count": 6,
   "metadata": {},
   "outputs": [
    {
     "data": {
      "text/plain": [
       "'d:\\\\Data_science\\\\Javier\\\\Repositorios\\\\Proyecto_tienda_online_webscrapping\\\\Data\\\\productos_scrape.csv'"
      ]
     },
     "execution_count": 6,
     "metadata": {},
     "output_type": "execute_result"
    }
   ],
   "source": [
    "new_path=folder+'\\\\'+path\n",
    "new_path"
   ]
  },
  {
   "attachments": {},
   "cell_type": "markdown",
   "metadata": {},
   "source": [
    "Vamos a eliminar duplicados del dataframe (esto es una operación a realizar en el anterior Notebook)"
   ]
  },
  {
   "cell_type": "code",
   "execution_count": 7,
   "metadata": {},
   "outputs": [
    {
     "data": {
      "text/html": [
       "<div>\n",
       "<style scoped>\n",
       "    .dataframe tbody tr th:only-of-type {\n",
       "        vertical-align: middle;\n",
       "    }\n",
       "\n",
       "    .dataframe tbody tr th {\n",
       "        vertical-align: top;\n",
       "    }\n",
       "\n",
       "    .dataframe thead th {\n",
       "        text-align: right;\n",
       "    }\n",
       "</style>\n",
       "<table border=\"1\" class=\"dataframe\">\n",
       "  <thead>\n",
       "    <tr style=\"text-align: right;\">\n",
       "      <th></th>\n",
       "      <th>ID</th>\n",
       "      <th>NAME</th>\n",
       "      <th>INFO</th>\n",
       "      <th>LISTA_URL</th>\n",
       "      <th>REGULAR_PRICE</th>\n",
       "      <th>DISCOUNT_PRICE</th>\n",
       "    </tr>\n",
       "  </thead>\n",
       "  <tbody>\n",
       "    <tr>\n",
       "      <th>0</th>\n",
       "      <td>0</td>\n",
       "      <td>Desliz! Lubricante íntimo de agua 100ml</td>\n",
       "      <td>Algunos lubricantes son un poco densos, otros muy líquidos, unos pringan, otros se absorben demasiado rápido, unos son muy caros, otros son de baja calidad... tras años trabajando con más de 15 marcas de lubricantes íntimos, en amantis y amantis.net nos hemos decidido a buscar la fórmula más equilibrada posible, creemos tenerla en nuestras manos...Desliz! de agua, es un lubricante íntimo concentrado y duradero. Por su densidad es ideal para el uso con juguetes eróticos de cualquier material, 100% compatible con preservativos, perfecto para el uso como lubricante íntimo vaginal. Complementa y facilita las relaciones sexuales.Sin olor ni sabor, no mancha, totalmente hipoalergénico y altamente hidratante dejará tu piel suave y deslizante incluso después de su total absorción. Ver características y medidasBote de 100ml de venta exclusiva en amantis.net y tiendas amantis.Ingredientes: Aquam glycerin, hydroxyethylcellulose, diazolidinyl urea, sodium benzoate, potassium sorbate, citric acid.</td>\n",
       "      <td>https://www.amantis.net/desliz-lubricante-intimo-agua-100ml/</td>\n",
       "      <td>9.99</td>\n",
       "      <td>7.99</td>\n",
       "    </tr>\n",
       "    <tr>\n",
       "      <th>1</th>\n",
       "      <td>1</td>\n",
       "      <td>TOBOGANE HOT RABBIT, el superventas de amantis ¡mejorado!</td>\n",
       "      <td>Vuelve nuestro vibrador de doble estimulación más vendido de AMANTIS… ¡Ahora con rabbit!Si ya conoces a TOBOGANE, nuestro súperventas con doble motor, mango ergonómico gracias a su anilla y efecto calor, vas a enamorarte completamente de su versión más actualizada; le hemos añadido las orejitas a su brazo de estimulación externa y el resultado es un potente conejo que bordeará y hará trepidar a tu clítoris (o perineo) para una estimulación más completa, precisa y profunda.Esta nueva versión Rabbit, cuenta con 2 motores: uno en cada brazo de estimulación dual (interna y externa) con 10 patrones de vibración combinándolos de forma independiente y otro de efecto calor… que caldeará y templará a tu adorado juguete para tener una experiencia total HOT sin sobresaltos.Déjate caer por un tobogán de sensaciones y por las sinuosas curvas del nuevo TOBOGANE RABBIT… que está vez te hará también saltar. Ver características y medidasMedidas: 19cm (11cm insertables) y 3,3cm/ 2,2cm (ancho máximo/ mínimo)Material: Silicona médica + ABSVibración: 10 modos + 6 intensidadesEfecto calor independienteRecargable (cable USB incluido)Sumergible IPX7Función de bloqueo para viajesIncluye estuche rígido y bolsa de saténColor: púrpura o negroLimpieza y conservación: Recordamos que el uso de lubricante es aconsejable para cualquier actividad sexual (siempre con base de agua al utilizar juguetes de silicona). No olvides lavar tus juguetes antes y después de cada uso, con agua y jabón neutro o un limpiador específico de acción desinfectante y bactericida, como nuestro spray limpiador Limpín. Todos los juguetes deben estar separados entre sí, en un lugar fresco y seco; para ello puedes utilizar la bolsa de satén incluida o una de nuestras bolsas de terciopelo en diferentes tamaños.</td>\n",
       "      <td>https://www.amantis.net/tobogane-hot-rabbit-el-superventas-amantis-mejorado/</td>\n",
       "      <td>89.99</td>\n",
       "      <td>39.99</td>\n",
       "    </tr>\n",
       "    <tr>\n",
       "      <th>2</th>\n",
       "      <td>2</td>\n",
       "      <td>BALLENATO, tu vibrador a distancia con aleta móvil y sumergible</td>\n",
       "      <td>De las profundidades más húmedas llega BALLENATO, el nuevo vibrador ergonómico de AMANTIS.Este grandioso cetáceo vibrante es poseedor de una colita estructurada que adquiere la forma que tú le des. De tal manera que podrías usarlo: como un potente dildo (dejando la aleta articulada en línea recta), como juguete de doble estimulación (vagina- clítoris / ano- perineo) o como vibrador tipo C (insertando sólo la parte de la aleta y permitiendo la penetración mientras lo llevas puesto)… entre muchas otras formas de estimulación externa.Además, BALLENATO es disfrutón y aparte de pasarlo muy bien en el hogar y recrearse en los juegos húmedos del baño, le encanta dar paseos al aire libre o incluso que lo saques a cenar porque gracias a su mando a distancia, podrás llevarlo puesto y activarlo allá donde tú quieras.Hazte ya las veinte mil leguas de viaje submarino con sus múltiples y diversas inmersiones.¡FREE BALLENATO! Ver características y medidasMando a distancia.Peso 62 gramos.Silicona médica.5 modos de vibración.Recargable (cable USB incluido). Tiempo de carga: 2h. Tiempo de uso: 1,5h.Sumergible.Color: Rosa o azul pastel.Limpieza y conservación:Recordamos que el uso de lubricante es aconsejable para cualquier actividad sexual (siempre con base de agua al utilizar juguetes de silicona). No olvides lavar tus juguetes antes y despus de cada uso, con agua y jabón neutro o un limpiador específico de acción desinfectante y bactericida, como nuestro spray limpiadorLimpín. Todos los juguetes deben estar separados entre sí, en un lugar fresco y seco; para ello puedes utilizar nuestrasbolsas de terciopelo en diferentes tamaños.</td>\n",
       "      <td>https://www.amantis.net/ballenato-tu-vibrador-distancia-aleta-movil-sumergible/</td>\n",
       "      <td>99.99</td>\n",
       "      <td>49.99</td>\n",
       "    </tr>\n",
       "    <tr>\n",
       "      <th>3</th>\n",
       "      <td>3</td>\n",
       "      <td>TANDEM 2 flex, vibrador doble flexible con mando</td>\n",
       "      <td>Tanto si ya eras fan de nuestro querido TANDEM como si no lo conocías, te presentamos su nueva versión TANDEM 2 flex: más flexible, reducido, recargable, con dos motores y mando a distancia. Haz tu Tándem \"chica-&gt;chica\" o \"chica-&gt;chico\" y prepátrate, TANDEM 2 flex lo tiene todo para dar mientras tomas, con un plus de comodidad y vibraciones!Su nuevo diseño –más compacto- lo hace mucho más manejable, sin renunciar a la máxima calidad de su silicona suave y aterciopelada. TÁNDEM 2 flex lleva dos motores, uno para quien lo lleve puesto y otro en el dildo, que vibrarán al ritmo de 10 patrones de vibración diferentes y tres niveles de intensidad distintos, que puedes controlar desde el propio juguete o con… ¡un mando a distancia!Decide si quieres utilizarlo sin arnés o en combinación con un modelo abierto, como nuestro precioso arnés-braguita de amantis, que te aportará un extra de sujeción para no tener que preocuparte por nada. Se adapta a cualquier cuerpo gracias a su flexibilidad y, si deseas darle mayor abertura, ábrelo y cierralo con tus manos varias veces para aumentar su arco antes del primer uso.¿Necesitas algún motivo más para hacerte con él? Pues aquí lo tienes… TÁNDEM 2 flex es salpicable, así que podréis hacer realidad vuestras fantasías incluso en la ducha. ¿No es maravilloso? ¿Nos hacemos un TÁNDEM? Ver características y medidas10 patrones de vibración diferentes y tres niveles de intensidadMaterial: silicona y ABSLongitud operativa: 12 cm (dildo externo) / 8 cm (parte interna)Diámetro máximo: 3,4 cm (dildo externo) / 3,6 c, (parte interna)Sumergible IPX7 (no sumergir el mando)Batería de litio recargable (con cargador USB incluido)Tiempo de carga: 3 horasAutonomía: 1 hora (en uso) / 3 meses (en standby)El mando a distancia funciona con una pila CR2032 (incluida)Color: negro, rosa o púrpuraUsar con lubricante de base acuosa Limpiar correctamente antes y después de cada uso (con jabón neutro y/o bactericida tipo Límpín)Guardar en una bolsa de tela transpirable, alejado de la luz solar directa y de manera individual. Los juguetes sexuales no deben almacenarse nunca en contacto con otros.</td>\n",
       "      <td>https://www.amantis.net/tandem-2-flex-vibrador-doble-flexible-mando/</td>\n",
       "      <td>109.99</td>\n",
       "      <td>49.99</td>\n",
       "    </tr>\n",
       "    <tr>\n",
       "      <th>4</th>\n",
       "      <td>4</td>\n",
       "      <td>FOXY - Succionador con mango vibrador y orejitas</td>\n",
       "      <td>Los succionadores van evolucionando, vamos descubriendo más y más formas de obtener placer. ¿Cómo podemos obtener más placer? Una bonita manera de regalarte un orgasmo potente e intenso es haciendo que sea más deseado, es decir, alargando la fase previa al orgasmo, osea la fase de la excitación.Para ello la clave está en combinar diferentes tipos de estimulaciones y también estimular otras zonas antes de ir directamente al grano. FOXY es un juguete de doble estimulación y focalizador de puntos erógenos más precisos por sus orejitas. Por un lado el mango es un vibrador que alcanza hasta 3 intensidades de vibración diferentes y 4 combinaciones rítmicas, estas vibraciones se trasladan a las orejitas de la parte superior del juguete y te servirán para focalizar en zonas más pequeñitas, ¡pero no menos importantes! Estas zonas son zonas con multitud de terminaciones nerviosas y nos referimos a zonas como los labios, el cuello, los pezones, el cráneo, los glúteos etc.FOXY, a su vez, también es un succionador sónico; la succión sónica consigue que la estimulación no solo se aplique al glande externo del clítoris. Gracias a sus toques rítmicos, a través de sus ondas longitudinales, también masajea sus raíces internas haciendo que los orgasmos sean mucho más intensos.FOXY es un juguete que nos ofrece una estimulación simultánea combinando la vibración y la succión, pero su tecnología nos permite también estimularnos de manera alterna para poder alargar más los niveles de intensidad media y hacernos desear más el orgasmo. No olvides que los juguetes son un elemento maravilloso para introducir en las relaciones. Notareis como subirán vuestros niveles de confianza y conectaréis de una manera muy especial.  Ver características y medidasVibrador con orejitas y succión simultáneaMateriales: Silicona de grado médico + ABSColores: rosa2 horas de uso continuado120 minutos para una carga completa.3 intensidades de vibración y 4 combinaciones rítmicas vibratorias.3 intensidades de succión y 4 combinaciones rítmicas de succión.Sumergible IPX7Recargable (cargador USB incluído)Como se usa vibrador succionador FOXYPuedes probar a activar su vibración y utilizar las orejitas para ir despertando la excitación poco a poco, cuanto más poco a poco vayas más deseo generas y más beneficiosos serán tus orgasmos.Recuerda que una vez tus genitales estén despiertos, tu clítoris está preparado para recibir placer, ahí puedes activar la succión de ondas e ir aumentando la velocidad de las mismas conforme la excitación vaya subiendo.FOXY tiene dos botones en la parte interna del mango, el que está abajo es el botón de encendido; pulsando tres segundos sentirás un pequeño toque de vibración y una luz se encenderá. Estos dos indicadores te harán saber que el juguete está encendido. Volviendo a apretar el botón de encendido, esta vez con una pulsación corta, activarás la vibración, y si pulsas el de arriba, la succión. Con las tres primeras pulsaciones cortas en ambos botones podrás ir cambiando de intensidad y, en las siguientes tres, encontrarás diferentes combinaciones rítmicas.Cada día estarás en un mood diferente, así que te recomendamos que hagas lo que te pida el cuerpo y fluyas con las diferentes combinaciones que FOXY te ofrece.No olvides acompañarlo con tu lubricante base de agua preferido, como Desliz!, y limpiarlo antes y después de cada uso con agua tibia y un jabón neutro, o un jabón bactericida como Limpín. Sécalo bien antes de guardarlo y mantenlo alejado de otros juguetes, por ejemplo en una de nuestras bolsas de satén.</td>\n",
       "      <td>https://www.amantis.net/foxy-vibrador-succionador-orejitas/</td>\n",
       "      <td>59.99</td>\n",
       "      <td>39.99</td>\n",
       "    </tr>\n",
       "  </tbody>\n",
       "</table>\n",
       "</div>"
      ],
      "text/plain": [
       "   ID                                                             NAME  \\\n",
       "0   0                          Desliz! Lubricante íntimo de agua 100ml   \n",
       "1   1        TOBOGANE HOT RABBIT, el superventas de amantis ¡mejorado!   \n",
       "2   2  BALLENATO, tu vibrador a distancia con aleta móvil y sumergible   \n",
       "3   3                 TANDEM 2 flex, vibrador doble flexible con mando   \n",
       "4   4                 FOXY - Succionador con mango vibrador y orejitas   \n",
       "\n",
       "                                                                                                                                                                                                                                                                                                                                                                                                                                                                                                                                                                                                                                                                                                                                                                                                                                                                                                                                                                                                                                                                                                                                                                                                                                                                                                                                                                                                                                                                                                                                                                                                                                                                                                                                                                                                                                                                                                                                                                                                                                                                                                                                                                                                                                                                                                                                                                                                                                                                                                                                                                                                                                                                                                                                                                                                                                                                                                                                                                                                                                                                                                                                                                                                                                                                                                                                                                                                                                                                                                                                                                                                                                                                                                        INFO  \\\n",
       "0                                                                                                                                                                                                                                                                                                                                                                                                                                                                                                                                                                                                                                                                                                                                                                                                                                                                                                                                                                                                                                                                                                                                                                                                                                                                                                                                                                                                                                                                                                                                                                                                                                                                                                                                                                                                                                                                                                                                                                                                                                                                                                                                                                                                                                                                                                                                                                                                                                                                                                                                                                                                                                                                   Algunos lubricantes son un poco densos, otros muy líquidos, unos pringan, otros se absorben demasiado rápido, unos son muy caros, otros son de baja calidad... tras años trabajando con más de 15 marcas de lubricantes íntimos, en amantis y amantis.net nos hemos decidido a buscar la fórmula más equilibrada posible, creemos tenerla en nuestras manos...Desliz! de agua, es un lubricante íntimo concentrado y duradero. Por su densidad es ideal para el uso con juguetes eróticos de cualquier material, 100% compatible con preservativos, perfecto para el uso como lubricante íntimo vaginal. Complementa y facilita las relaciones sexuales.Sin olor ni sabor, no mancha, totalmente hipoalergénico y altamente hidratante dejará tu piel suave y deslizante incluso después de su total absorción. Ver características y medidasBote de 100ml de venta exclusiva en amantis.net y tiendas amantis.Ingredientes: Aquam glycerin, hydroxyethylcellulose, diazolidinyl urea, sodium benzoate, potassium sorbate, citric acid.    \n",
       "1                                                                                                                                                                                                                                                                                                                                                                                                                                                                                                                                                                                                                                                                                                                                                                                                                                                                                                                                                                                                                                                                                                                                                                                                                                                                                                                                                                                                                                                                                                                                                                                                                                                                                                                                                                                                                                                      Vuelve nuestro vibrador de doble estimulación más vendido de AMANTIS… ¡Ahora con rabbit!Si ya conoces a TOBOGANE, nuestro súperventas con doble motor, mango ergonómico gracias a su anilla y efecto calor, vas a enamorarte completamente de su versión más actualizada; le hemos añadido las orejitas a su brazo de estimulación externa y el resultado es un potente conejo que bordeará y hará trepidar a tu clítoris (o perineo) para una estimulación más completa, precisa y profunda.Esta nueva versión Rabbit, cuenta con 2 motores: uno en cada brazo de estimulación dual (interna y externa) con 10 patrones de vibración combinándolos de forma independiente y otro de efecto calor… que caldeará y templará a tu adorado juguete para tener una experiencia total HOT sin sobresaltos.Déjate caer por un tobogán de sensaciones y por las sinuosas curvas del nuevo TOBOGANE RABBIT… que está vez te hará también saltar. Ver características y medidasMedidas: 19cm (11cm insertables) y 3,3cm/ 2,2cm (ancho máximo/ mínimo)Material: Silicona médica + ABSVibración: 10 modos + 6 intensidadesEfecto calor independienteRecargable (cable USB incluido)Sumergible IPX7Función de bloqueo para viajesIncluye estuche rígido y bolsa de saténColor: púrpura o negroLimpieza y conservación: Recordamos que el uso de lubricante es aconsejable para cualquier actividad sexual (siempre con base de agua al utilizar juguetes de silicona). No olvides lavar tus juguetes antes y después de cada uso, con agua y jabón neutro o un limpiador específico de acción desinfectante y bactericida, como nuestro spray limpiador Limpín. Todos los juguetes deben estar separados entre sí, en un lugar fresco y seco; para ello puedes utilizar la bolsa de satén incluida o una de nuestras bolsas de terciopelo en diferentes tamaños.    \n",
       "2                                                                                                                                                                                                                                                                                                                                                                                                                                                                                                                                                                                                                                                                                                                                                                                                                                                                                                                                                                                                                                                                                                                                                                                                                                                                                                                                                                                                                                                                                                                                                                                                                                                                                                                                                                                                                                                                                                                                                                                                 De las profundidades más húmedas llega BALLENATO, el nuevo vibrador ergonómico de AMANTIS.Este grandioso cetáceo vibrante es poseedor de una colita estructurada que adquiere la forma que tú le des. De tal manera que podrías usarlo: como un potente dildo (dejando la aleta articulada en línea recta), como juguete de doble estimulación (vagina- clítoris / ano- perineo) o como vibrador tipo C (insertando sólo la parte de la aleta y permitiendo la penetración mientras lo llevas puesto)… entre muchas otras formas de estimulación externa.Además, BALLENATO es disfrutón y aparte de pasarlo muy bien en el hogar y recrearse en los juegos húmedos del baño, le encanta dar paseos al aire libre o incluso que lo saques a cenar porque gracias a su mando a distancia, podrás llevarlo puesto y activarlo allá donde tú quieras.Hazte ya las veinte mil leguas de viaje submarino con sus múltiples y diversas inmersiones.¡FREE BALLENATO! Ver características y medidasMando a distancia.Peso 62 gramos.Silicona médica.5 modos de vibración.Recargable (cable USB incluido). Tiempo de carga: 2h. Tiempo de uso: 1,5h.Sumergible.Color: Rosa o azul pastel.Limpieza y conservación:Recordamos que el uso de lubricante es aconsejable para cualquier actividad sexual (siempre con base de agua al utilizar juguetes de silicona). No olvides lavar tus juguetes antes y despus de cada uso, con agua y jabón neutro o un limpiador específico de acción desinfectante y bactericida, como nuestro spray limpiadorLimpín. Todos los juguetes deben estar separados entre sí, en un lugar fresco y seco; para ello puedes utilizar nuestrasbolsas de terciopelo en diferentes tamaños.    \n",
       "3                                                                                                                                                                                                                                                                                                                                                                                                                                                                                                                                                                                                                                                                                                                                                                                                                                                                                                                                                                                                                                                                                                                                                                                                                                                                                                                                                                                                                                                                                       Tanto si ya eras fan de nuestro querido TANDEM como si no lo conocías, te presentamos su nueva versión TANDEM 2 flex: más flexible, reducido, recargable, con dos motores y mando a distancia. Haz tu Tándem \"chica->chica\" o \"chica->chico\" y prepátrate, TANDEM 2 flex lo tiene todo para dar mientras tomas, con un plus de comodidad y vibraciones!Su nuevo diseño –más compacto- lo hace mucho más manejable, sin renunciar a la máxima calidad de su silicona suave y aterciopelada. TÁNDEM 2 flex lleva dos motores, uno para quien lo lleve puesto y otro en el dildo, que vibrarán al ritmo de 10 patrones de vibración diferentes y tres niveles de intensidad distintos, que puedes controlar desde el propio juguete o con… ¡un mando a distancia!Decide si quieres utilizarlo sin arnés o en combinación con un modelo abierto, como nuestro precioso arnés-braguita de amantis, que te aportará un extra de sujeción para no tener que preocuparte por nada. Se adapta a cualquier cuerpo gracias a su flexibilidad y, si deseas darle mayor abertura, ábrelo y cierralo con tus manos varias veces para aumentar su arco antes del primer uso.¿Necesitas algún motivo más para hacerte con él? Pues aquí lo tienes… TÁNDEM 2 flex es salpicable, así que podréis hacer realidad vuestras fantasías incluso en la ducha. ¿No es maravilloso? ¿Nos hacemos un TÁNDEM? Ver características y medidas10 patrones de vibración diferentes y tres niveles de intensidadMaterial: silicona y ABSLongitud operativa: 12 cm (dildo externo) / 8 cm (parte interna)Diámetro máximo: 3,4 cm (dildo externo) / 3,6 c, (parte interna)Sumergible IPX7 (no sumergir el mando)Batería de litio recargable (con cargador USB incluido)Tiempo de carga: 3 horasAutonomía: 1 hora (en uso) / 3 meses (en standby)El mando a distancia funciona con una pila CR2032 (incluida)Color: negro, rosa o púrpuraUsar con lubricante de base acuosa Limpiar correctamente antes y después de cada uso (con jabón neutro y/o bactericida tipo Límpín)Guardar en una bolsa de tela transpirable, alejado de la luz solar directa y de manera individual. Los juguetes sexuales no deben almacenarse nunca en contacto con otros.    \n",
       "4  Los succionadores van evolucionando, vamos descubriendo más y más formas de obtener placer. ¿Cómo podemos obtener más placer? Una bonita manera de regalarte un orgasmo potente e intenso es haciendo que sea más deseado, es decir, alargando la fase previa al orgasmo, osea la fase de la excitación.Para ello la clave está en combinar diferentes tipos de estimulaciones y también estimular otras zonas antes de ir directamente al grano. FOXY es un juguete de doble estimulación y focalizador de puntos erógenos más precisos por sus orejitas. Por un lado el mango es un vibrador que alcanza hasta 3 intensidades de vibración diferentes y 4 combinaciones rítmicas, estas vibraciones se trasladan a las orejitas de la parte superior del juguete y te servirán para focalizar en zonas más pequeñitas, ¡pero no menos importantes! Estas zonas son zonas con multitud de terminaciones nerviosas y nos referimos a zonas como los labios, el cuello, los pezones, el cráneo, los glúteos etc.FOXY, a su vez, también es un succionador sónico; la succión sónica consigue que la estimulación no solo se aplique al glande externo del clítoris. Gracias a sus toques rítmicos, a través de sus ondas longitudinales, también masajea sus raíces internas haciendo que los orgasmos sean mucho más intensos.FOXY es un juguete que nos ofrece una estimulación simultánea combinando la vibración y la succión, pero su tecnología nos permite también estimularnos de manera alterna para poder alargar más los niveles de intensidad media y hacernos desear más el orgasmo. No olvides que los juguetes son un elemento maravilloso para introducir en las relaciones. Notareis como subirán vuestros niveles de confianza y conectaréis de una manera muy especial.  Ver características y medidasVibrador con orejitas y succión simultáneaMateriales: Silicona de grado médico + ABSColores: rosa2 horas de uso continuado120 minutos para una carga completa.3 intensidades de vibración y 4 combinaciones rítmicas vibratorias.3 intensidades de succión y 4 combinaciones rítmicas de succión.Sumergible IPX7Recargable (cargador USB incluído)Como se usa vibrador succionador FOXYPuedes probar a activar su vibración y utilizar las orejitas para ir despertando la excitación poco a poco, cuanto más poco a poco vayas más deseo generas y más beneficiosos serán tus orgasmos.Recuerda que una vez tus genitales estén despiertos, tu clítoris está preparado para recibir placer, ahí puedes activar la succión de ondas e ir aumentando la velocidad de las mismas conforme la excitación vaya subiendo.FOXY tiene dos botones en la parte interna del mango, el que está abajo es el botón de encendido; pulsando tres segundos sentirás un pequeño toque de vibración y una luz se encenderá. Estos dos indicadores te harán saber que el juguete está encendido. Volviendo a apretar el botón de encendido, esta vez con una pulsación corta, activarás la vibración, y si pulsas el de arriba, la succión. Con las tres primeras pulsaciones cortas en ambos botones podrás ir cambiando de intensidad y, en las siguientes tres, encontrarás diferentes combinaciones rítmicas.Cada día estarás en un mood diferente, así que te recomendamos que hagas lo que te pida el cuerpo y fluyas con las diferentes combinaciones que FOXY te ofrece.No olvides acompañarlo con tu lubricante base de agua preferido, como Desliz!, y limpiarlo antes y después de cada uso con agua tibia y un jabón neutro, o un jabón bactericida como Limpín. Sécalo bien antes de guardarlo y mantenlo alejado de otros juguetes, por ejemplo en una de nuestras bolsas de satén.    \n",
       "\n",
       "                                                                         LISTA_URL  \\\n",
       "0                     https://www.amantis.net/desliz-lubricante-intimo-agua-100ml/   \n",
       "1     https://www.amantis.net/tobogane-hot-rabbit-el-superventas-amantis-mejorado/   \n",
       "2  https://www.amantis.net/ballenato-tu-vibrador-distancia-aleta-movil-sumergible/   \n",
       "3             https://www.amantis.net/tandem-2-flex-vibrador-doble-flexible-mando/   \n",
       "4                      https://www.amantis.net/foxy-vibrador-succionador-orejitas/   \n",
       "\n",
       "   REGULAR_PRICE  DISCOUNT_PRICE  \n",
       "0           9.99            7.99  \n",
       "1          89.99           39.99  \n",
       "2          99.99           49.99  \n",
       "3         109.99           49.99  \n",
       "4          59.99           39.99  "
      ]
     },
     "execution_count": 7,
     "metadata": {},
     "output_type": "execute_result"
    }
   ],
   "source": [
    "dataframe=pd.read_csv(new_path)\n",
    "dataframe.head()"
   ]
  },
  {
   "cell_type": "code",
   "execution_count": 7,
   "metadata": {},
   "outputs": [
    {
     "data": {
      "text/plain": [
       "551"
      ]
     },
     "execution_count": 7,
     "metadata": {},
     "output_type": "execute_result"
    }
   ],
   "source": [
    "len(dataframe)"
   ]
  },
  {
   "attachments": {},
   "cell_type": "markdown",
   "metadata": {},
   "source": [
    "## 2.- Descomponemos las variables *Name* y *Description*.\n",
    "\n",
    "Vamos a crear 2 nuevas columnas a partir de *Name* y *Description*, donde dejaremos el nombre del producto y su slogan por un lado y por otro la descripción y las características por otro.\n",
    "\n",
    "En principio son variables que no necesitaremos para estos estudios pero las guardaremos por si hay que hacer algún estudio posterior de las mismas (comparativas de productos similares de esta página web o de otras páginas web, por ejemplo)."
   ]
  },
  {
   "attachments": {},
   "cell_type": "markdown",
   "metadata": {},
   "source": [
    "#### Generación de slogan.\n",
    "\n",
    "Primeramente vamos a realizar un visionado de los datos que tienen para discernir donde se puede realizar la separación.\n",
    "\n",
    "Por un lado extraeremos el Name en una nueva columna y varias columnas para ir separando el resto. "
   ]
  },
  {
   "cell_type": "code",
   "execution_count": 8,
   "metadata": {},
   "outputs": [
    {
     "name": "stderr",
     "output_type": "stream",
     "text": [
      "C:\\Users\\Javier\\AppData\\Local\\Temp\\ipykernel_13436\\572804979.py:1: FutureWarning: The default value of regex will change from True to False in a future version.\n",
      "  dataframe['NAME'] = dataframe['NAME'].str.replace(r'-(?=\\w)', '_')\n",
      "C:\\Users\\Javier\\AppData\\Local\\Temp\\ipykernel_13436\\572804979.py:2: FutureWarning: In a future version of pandas all arguments of StringMethods.split except for the argument 'pat' will be keyword-only.\n",
      "  dataframe[['PRODUCT', 'SLOGAN']] = dataframe['NAME'].str.split('[,-.]', 1, expand=True)\n"
     ]
    }
   ],
   "source": [
    "dataframe['NAME'] = dataframe['NAME'].str.replace(r'-(?=\\w)', '_')\n",
    "dataframe[['PRODUCT', 'SLOGAN']] = dataframe['NAME'].str.split('[,-.]', 1, expand=True)\n",
    "dataframe['PRODUCT'] = dataframe['PRODUCT'].str.strip()\n",
    "dataframe['SLOGAN'] = dataframe['SLOGAN'].str.strip()\n",
    "# dataframe.head()"
   ]
  },
  {
   "attachments": {},
   "cell_type": "markdown",
   "metadata": {},
   "source": [
    "#### Separación entre Description y Characteristics.\n",
    "\n",
    "Primeramente vamos a realizar un visionado de los datos que tienen para discernir donde se puede realizar la separación.\n",
    "\n",
    "Por un lado extraeremos las características en una nueva columna, dejando la Description en la misma. \n",
    "\n",
    "**Pendiente**: Hay que hacer una segunda separación de Description en el caso que solo aparezca *características*"
   ]
  },
  {
   "cell_type": "code",
   "execution_count": 9,
   "metadata": {},
   "outputs": [
    {
     "name": "stderr",
     "output_type": "stream",
     "text": [
      "C:\\Users\\Javier\\AppData\\Local\\Temp\\ipykernel_13436\\1793188304.py:1: FutureWarning: In a future version of pandas all arguments of StringMethods.split except for the argument 'pat' will be keyword-only.\n",
      "  dataframe['CHARACTERISTICS'] = dataframe['INFO'].str.split('Ver características y medidas|Características', 1).str[1]\n",
      "C:\\Users\\Javier\\AppData\\Local\\Temp\\ipykernel_13436\\1793188304.py:2: FutureWarning: In a future version of pandas all arguments of StringMethods.split except for the argument 'pat' will be keyword-only.\n",
      "  dataframe['DESCRIPTION'] = dataframe['INFO'].str.split('Ver características y medidas|Características', 1).str[0].str.strip()\n"
     ]
    }
   ],
   "source": [
    "dataframe['CHARACTERISTICS'] = dataframe['INFO'].str.split('Ver características y medidas|Características', 1).str[1]\n",
    "dataframe['DESCRIPTION'] = dataframe['INFO'].str.split('Ver características y medidas|Características', 1).str[0].str.strip()\n",
    "# dataframe.head()\n"
   ]
  },
  {
   "attachments": {},
   "cell_type": "markdown",
   "metadata": {},
   "source": [
    "Se observan que hay *\\r* dentro del texto generado en las nuevas columnas, por lo que vamos a proceder a sustituir esto por un espacio."
   ]
  },
  {
   "cell_type": "code",
   "execution_count": 10,
   "metadata": {},
   "outputs": [],
   "source": [
    "dataframe['CHARACTERISTICS'] = dataframe['CHARACTERISTICS'].str.replace('\\r', ' ')\n",
    "dataframe['DESCRIPTION'] = dataframe['DESCRIPTION'].str.replace('\\r', ' ')\n",
    "# dataframe.head()"
   ]
  },
  {
   "cell_type": "code",
   "execution_count": 11,
   "metadata": {},
   "outputs": [
    {
     "name": "stdout",
     "output_type": "stream",
     "text": [
      "<class 'pandas.core.frame.DataFrame'>\n",
      "RangeIndex: 550 entries, 0 to 549\n",
      "Data columns (total 10 columns):\n",
      " #   Column           Non-Null Count  Dtype  \n",
      "---  ------           --------------  -----  \n",
      " 0   ID               550 non-null    int64  \n",
      " 1   NAME             550 non-null    object \n",
      " 2   INFO             550 non-null    object \n",
      " 3   LISTA_URL        550 non-null    object \n",
      " 4   REGULAR_PRICE    550 non-null    float64\n",
      " 5   DISCOUNT_PRICE   550 non-null    float64\n",
      " 6   PRODUCT          550 non-null    object \n",
      " 7   SLOGAN           454 non-null    object \n",
      " 8   CHARACTERISTICS  489 non-null    object \n",
      " 9   DESCRIPTION      550 non-null    object \n",
      "dtypes: float64(2), int64(1), object(7)\n",
      "memory usage: 43.1+ KB\n"
     ]
    }
   ],
   "source": [
    "dataframe.info()"
   ]
  },
  {
   "attachments": {},
   "cell_type": "markdown",
   "metadata": {},
   "source": [
    "Eliminamos *Nombre* y sustituimos por *Product*, *Slogan*, *Description* y *Characteristics*."
   ]
  },
  {
   "cell_type": "code",
   "execution_count": 12,
   "metadata": {},
   "outputs": [
    {
     "data": {
      "text/html": [
       "<div>\n",
       "<style scoped>\n",
       "    .dataframe tbody tr th:only-of-type {\n",
       "        vertical-align: middle;\n",
       "    }\n",
       "\n",
       "    .dataframe tbody tr th {\n",
       "        vertical-align: top;\n",
       "    }\n",
       "\n",
       "    .dataframe thead th {\n",
       "        text-align: right;\n",
       "    }\n",
       "</style>\n",
       "<table border=\"1\" class=\"dataframe\">\n",
       "  <thead>\n",
       "    <tr style=\"text-align: right;\">\n",
       "      <th></th>\n",
       "      <th>ID</th>\n",
       "      <th>PRODUCT</th>\n",
       "      <th>SLOGAN</th>\n",
       "      <th>DESCRIPTION</th>\n",
       "      <th>CHARACTERISTICS</th>\n",
       "      <th>LISTA_URL</th>\n",
       "      <th>REGULAR_PRICE</th>\n",
       "      <th>DISCOUNT_PRICE</th>\n",
       "    </tr>\n",
       "  </thead>\n",
       "  <tbody>\n",
       "    <tr>\n",
       "      <th>0</th>\n",
       "      <td>0</td>\n",
       "      <td>Desliz! Lubricante íntimo de agua 100ml</td>\n",
       "      <td>None</td>\n",
       "      <td>Algunos lubricantes son un poco densos, otros muy líquidos, unos pringan, otros se absorben demasiado rápido, unos son muy caros, otros son de baja calidad... tras años trabajando con más de 15 marcas de lubricantes íntimos, en amantis y amantis.net nos hemos decidido a buscar la fórmula más equilibrada posible, creemos tenerla en nuestras manos...Desliz! de agua, es un lubricante íntimo concentrado y duradero. Por su densidad es ideal para el uso con juguetes eróticos de cualquier material, 100% compatible con preservativos, perfecto para el uso como lubricante íntimo vaginal. Complementa y facilita las relaciones sexuales.Sin olor ni sabor, no mancha, totalmente hipoalergénico y altamente hidratante dejará tu piel suave y deslizante incluso después de su total absorción.</td>\n",
       "      <td>Bote de 100ml de venta exclusiva en amantis.net y tiendas amantis.Ingredientes: Aquam glycerin, hydroxyethylcellulose, diazolidinyl urea, sodium benzoate, potassium sorbate, citric acid.</td>\n",
       "      <td>https://www.amantis.net/desliz-lubricante-intimo-agua-100ml/</td>\n",
       "      <td>9.99</td>\n",
       "      <td>7.99</td>\n",
       "    </tr>\n",
       "    <tr>\n",
       "      <th>1</th>\n",
       "      <td>1</td>\n",
       "      <td>TOBOGANE HOT RABBIT</td>\n",
       "      <td>el superventas de amantis ¡mejorado!</td>\n",
       "      <td>Vuelve nuestro vibrador de doble estimulación más vendido de AMANTIS… ¡Ahora con rabbit!Si ya conoces a TOBOGANE, nuestro súperventas con doble motor, mango ergonómico gracias a su anilla y efecto calor, vas a enamorarte completamente de su versión más actualizada; le hemos añadido las orejitas a su brazo de estimulación externa y el resultado es un potente conejo que bordeará y hará trepidar a tu clítoris (o perineo) para una estimulación más completa, precisa y profunda.Esta nueva versión Rabbit, cuenta con 2 motores: uno en cada brazo de estimulación dual (interna y externa) con 10 patrones de vibración combinándolos de forma independiente y otro de efecto calor… que caldeará y templará a tu adorado juguete para tener una experiencia total HOT sin sobresaltos.Déjate caer por un tobogán de sensaciones y por las sinuosas curvas del nuevo TOBOGANE RABBIT… que está vez te hará también saltar.</td>\n",
       "      <td>Medidas: 19cm (11cm insertables) y 3,3cm/ 2,2cm (ancho máximo/ mínimo)Material: Silicona médica + ABSVibración: 10 modos + 6 intensidadesEfecto calor independienteRecargable (cable USB incluido)Sumergible IPX7Función de bloqueo para viajesIncluye estuche rígido y bolsa de saténColor: púrpura o negroLimpieza y conservación: Recordamos que el uso de lubricante es aconsejable para cualquier actividad sexual (siempre con base de agua al utilizar juguetes de silicona). No olvides lavar tus juguetes antes y después de cada uso, con agua y jabón neutro o un limpiador específico de acción desinfectante y bactericida, como nuestro spray limpiador Limpín. Todos los juguetes deben estar separados entre sí, en un lugar fresco y seco; para ello puedes utilizar la bolsa de satén incluida o una de nuestras bolsas de terciopelo en diferentes tamaños.</td>\n",
       "      <td>https://www.amantis.net/tobogane-hot-rabbit-el-superventas-amantis-mejorado/</td>\n",
       "      <td>89.99</td>\n",
       "      <td>39.99</td>\n",
       "    </tr>\n",
       "    <tr>\n",
       "      <th>2</th>\n",
       "      <td>2</td>\n",
       "      <td>BALLENATO</td>\n",
       "      <td>tu vibrador a distancia con aleta móvil y sumergible</td>\n",
       "      <td>De las profundidades más húmedas llega BALLENATO, el nuevo vibrador ergonómico de AMANTIS.Este grandioso cetáceo vibrante es poseedor de una colita estructurada que adquiere la forma que tú le des. De tal manera que podrías usarlo: como un potente dildo (dejando la aleta articulada en línea recta), como juguete de doble estimulación (vagina- clítoris / ano- perineo) o como vibrador tipo C (insertando sólo la parte de la aleta y permitiendo la penetración mientras lo llevas puesto)… entre muchas otras formas de estimulación externa.Además, BALLENATO es disfrutón y aparte de pasarlo muy bien en el hogar y recrearse en los juegos húmedos del baño, le encanta dar paseos al aire libre o incluso que lo saques a cenar porque gracias a su mando a distancia, podrás llevarlo puesto y activarlo allá donde tú quieras.Hazte ya las veinte mil leguas de viaje submarino con sus múltiples y diversas inmersiones.¡FREE BALLENATO!</td>\n",
       "      <td>Mando a distancia.Peso 62 gramos.Silicona médica.5 modos de vibración.Recargable (cable USB incluido). Tiempo de carga: 2h. Tiempo de uso: 1,5h.Sumergible.Color: Rosa o azul pastel.Limpieza y conservación:Recordamos que el uso de lubricante es aconsejable para cualquier actividad sexual (siempre con base de agua al utilizar juguetes de silicona). No olvides lavar tus juguetes antes y despus de cada uso, con agua y jabón neutro o un limpiador específico de acción desinfectante y bactericida, como nuestro spray limpiadorLimpín. Todos los juguetes deben estar separados entre sí, en un lugar fresco y seco; para ello puedes utilizar nuestrasbolsas de terciopelo en diferentes tamaños.</td>\n",
       "      <td>https://www.amantis.net/ballenato-tu-vibrador-distancia-aleta-movil-sumergible/</td>\n",
       "      <td>99.99</td>\n",
       "      <td>49.99</td>\n",
       "    </tr>\n",
       "    <tr>\n",
       "      <th>3</th>\n",
       "      <td>3</td>\n",
       "      <td>TANDEM 2 flex</td>\n",
       "      <td>vibrador doble flexible con mando</td>\n",
       "      <td>Tanto si ya eras fan de nuestro querido TANDEM como si no lo conocías, te presentamos su nueva versión TANDEM 2 flex: más flexible, reducido, recargable, con dos motores y mando a distancia. Haz tu Tándem \"chica-&gt;chica\" o \"chica-&gt;chico\" y prepátrate, TANDEM 2 flex lo tiene todo para dar mientras tomas, con un plus de comodidad y vibraciones!Su nuevo diseño –más compacto- lo hace mucho más manejable, sin renunciar a la máxima calidad de su silicona suave y aterciopelada. TÁNDEM 2 flex lleva dos motores, uno para quien lo lleve puesto y otro en el dildo, que vibrarán al ritmo de 10 patrones de vibración diferentes y tres niveles de intensidad distintos, que puedes controlar desde el propio juguete o con… ¡un mando a distancia!Decide si quieres utilizarlo sin arnés o en combinación con un modelo abierto, como nuestro precioso arnés-braguita de amantis, que te aportará un extra de sujeción para no tener que preocuparte por nada. Se adapta a cualquier cuerpo gracias a su flexibilidad y, si deseas darle mayor abertura, ábrelo y cierralo con tus manos varias veces para aumentar su arco antes del primer uso.¿Necesitas algún motivo más para hacerte con él? Pues aquí lo tienes… TÁNDEM 2 flex es salpicable, así que podréis hacer realidad vuestras fantasías incluso en la ducha. ¿No es maravilloso? ¿Nos hacemos un TÁNDEM?</td>\n",
       "      <td>10 patrones de vibración diferentes y tres niveles de intensidadMaterial: silicona y ABSLongitud operativa: 12 cm (dildo externo) / 8 cm (parte interna)Diámetro máximo: 3,4 cm (dildo externo) / 3,6 c, (parte interna)Sumergible IPX7 (no sumergir el mando)Batería de litio recargable (con cargador USB incluido)Tiempo de carga: 3 horasAutonomía: 1 hora (en uso) / 3 meses (en standby)El mando a distancia funciona con una pila CR2032 (incluida)Color: negro, rosa o púrpuraUsar con lubricante de base acuosa Limpiar correctamente antes y después de cada uso (con jabón neutro y/o bactericida tipo Límpín)Guardar en una bolsa de tela transpirable, alejado de la luz solar directa y de manera individual. Los juguetes sexuales no deben almacenarse nunca en contacto con otros.</td>\n",
       "      <td>https://www.amantis.net/tandem-2-flex-vibrador-doble-flexible-mando/</td>\n",
       "      <td>109.99</td>\n",
       "      <td>49.99</td>\n",
       "    </tr>\n",
       "    <tr>\n",
       "      <th>4</th>\n",
       "      <td>4</td>\n",
       "      <td>FOXY</td>\n",
       "      <td>Succionador con mango vibrador y orejitas</td>\n",
       "      <td>Los succionadores van evolucionando, vamos descubriendo más y más formas de obtener placer. ¿Cómo podemos obtener más placer? Una bonita manera de regalarte un orgasmo potente e intenso es haciendo que sea más deseado, es decir, alargando la fase previa al orgasmo, osea la fase de la excitación.Para ello la clave está en combinar diferentes tipos de estimulaciones y también estimular otras zonas antes de ir directamente al grano. FOXY es un juguete de doble estimulación y focalizador de puntos erógenos más precisos por sus orejitas. Por un lado el mango es un vibrador que alcanza hasta 3 intensidades de vibración diferentes y 4 combinaciones rítmicas, estas vibraciones se trasladan a las orejitas de la parte superior del juguete y te servirán para focalizar en zonas más pequeñitas, ¡pero no menos importantes! Estas zonas son zonas con multitud de terminaciones nerviosas y nos referimos a zonas como los labios, el cuello, los pezones, el cráneo, los glúteos etc.FOXY, a su vez, también es un succionador sónico; la succión sónica consigue que la estimulación no solo se aplique al glande externo del clítoris. Gracias a sus toques rítmicos, a través de sus ondas longitudinales, también masajea sus raíces internas haciendo que los orgasmos sean mucho más intensos.FOXY es un juguete que nos ofrece una estimulación simultánea combinando la vibración y la succión, pero su tecnología nos permite también estimularnos de manera alterna para poder alargar más los niveles de intensidad media y hacernos desear más el orgasmo. No olvides que los juguetes son un elemento maravilloso para introducir en las relaciones. Notareis como subirán vuestros niveles de confianza y conectaréis de una manera muy especial.</td>\n",
       "      <td>Vibrador con orejitas y succión simultáneaMateriales: Silicona de grado médico + ABSColores: rosa2 horas de uso continuado120 minutos para una carga completa.3 intensidades de vibración y 4 combinaciones rítmicas vibratorias.3 intensidades de succión y 4 combinaciones rítmicas de succión.Sumergible IPX7Recargable (cargador USB incluído)Como se usa vibrador succionador FOXYPuedes probar a activar su vibración y utilizar las orejitas para ir despertando la excitación poco a poco, cuanto más poco a poco vayas más deseo generas y más beneficiosos serán tus orgasmos.Recuerda que una vez tus genitales estén despiertos, tu clítoris está preparado para recibir placer, ahí puedes activar la succión de ondas e ir aumentando la velocidad de las mismas conforme la excitación vaya subiendo.FOXY tiene dos botones en la parte interna del mango, el que está abajo es el botón de encendido; pulsando tres segundos sentirás un pequeño toque de vibración y una luz se encenderá. Estos dos indicadores te harán saber que el juguete está encendido. Volviendo a apretar el botón de encendido, esta vez con una pulsación corta, activarás la vibración, y si pulsas el de arriba, la succión. Con las tres primeras pulsaciones cortas en ambos botones podrás ir cambiando de intensidad y, en las siguientes tres, encontrarás diferentes combinaciones rítmicas.Cada día estarás en un mood diferente, así que te recomendamos que hagas lo que te pida el cuerpo y fluyas con las diferentes combinaciones que FOXY te ofrece.No olvides acompañarlo con tu lubricante base de agua preferido, como Desliz!, y limpiarlo antes y después de cada uso con agua tibia y un jabón neutro, o un jabón bactericida como Limpín. Sécalo bien antes de guardarlo y mantenlo alejado de otros juguetes, por ejemplo en una de nuestras bolsas de satén.</td>\n",
       "      <td>https://www.amantis.net/foxy-vibrador-succionador-orejitas/</td>\n",
       "      <td>59.99</td>\n",
       "      <td>39.99</td>\n",
       "    </tr>\n",
       "  </tbody>\n",
       "</table>\n",
       "</div>"
      ],
      "text/plain": [
       "   ID                                  PRODUCT  \\\n",
       "0   0  Desliz! Lubricante íntimo de agua 100ml   \n",
       "1   1                      TOBOGANE HOT RABBIT   \n",
       "2   2                                BALLENATO   \n",
       "3   3                            TANDEM 2 flex   \n",
       "4   4                                     FOXY   \n",
       "\n",
       "                                                 SLOGAN  \\\n",
       "0                                                  None   \n",
       "1                  el superventas de amantis ¡mejorado!   \n",
       "2  tu vibrador a distancia con aleta móvil y sumergible   \n",
       "3                     vibrador doble flexible con mando   \n",
       "4             Succionador con mango vibrador y orejitas   \n",
       "\n",
       "                                                                                                                                                                                                                                                                                                                                                                                                                                                                                                                                                                                                                                                                                                                                                                                                                                                                                                                                                                                                                                                                                                                                                                                                                                                                                                                                                                                                                                                                                                                                                                                                                                                                                                                                                                                 DESCRIPTION  \\\n",
       "0                                                                                                                                                                                                                                                                                                                                                                                                                                                                                                                                                                                                                                                                                                                                                                                                                                                                                                                                                                            Algunos lubricantes son un poco densos, otros muy líquidos, unos pringan, otros se absorben demasiado rápido, unos son muy caros, otros son de baja calidad... tras años trabajando con más de 15 marcas de lubricantes íntimos, en amantis y amantis.net nos hemos decidido a buscar la fórmula más equilibrada posible, creemos tenerla en nuestras manos...Desliz! de agua, es un lubricante íntimo concentrado y duradero. Por su densidad es ideal para el uso con juguetes eróticos de cualquier material, 100% compatible con preservativos, perfecto para el uso como lubricante íntimo vaginal. Complementa y facilita las relaciones sexuales.Sin olor ni sabor, no mancha, totalmente hipoalergénico y altamente hidratante dejará tu piel suave y deslizante incluso después de su total absorción.   \n",
       "1                                                                                                                                                                                                                                                                                                                                                                                                                                                                                                                                                                                                                                                                                                                                                                                                                                                   Vuelve nuestro vibrador de doble estimulación más vendido de AMANTIS… ¡Ahora con rabbit!Si ya conoces a TOBOGANE, nuestro súperventas con doble motor, mango ergonómico gracias a su anilla y efecto calor, vas a enamorarte completamente de su versión más actualizada; le hemos añadido las orejitas a su brazo de estimulación externa y el resultado es un potente conejo que bordeará y hará trepidar a tu clítoris (o perineo) para una estimulación más completa, precisa y profunda.Esta nueva versión Rabbit, cuenta con 2 motores: uno en cada brazo de estimulación dual (interna y externa) con 10 patrones de vibración combinándolos de forma independiente y otro de efecto calor… que caldeará y templará a tu adorado juguete para tener una experiencia total HOT sin sobresaltos.Déjate caer por un tobogán de sensaciones y por las sinuosas curvas del nuevo TOBOGANE RABBIT… que está vez te hará también saltar.   \n",
       "2                                                                                                                                                                                                                                                                                                                                                                                                                                                                                                                                                                                                                                                                                                                                                                                                                               De las profundidades más húmedas llega BALLENATO, el nuevo vibrador ergonómico de AMANTIS.Este grandioso cetáceo vibrante es poseedor de una colita estructurada que adquiere la forma que tú le des. De tal manera que podrías usarlo: como un potente dildo (dejando la aleta articulada en línea recta), como juguete de doble estimulación (vagina- clítoris / ano- perineo) o como vibrador tipo C (insertando sólo la parte de la aleta y permitiendo la penetración mientras lo llevas puesto)… entre muchas otras formas de estimulación externa.Además, BALLENATO es disfrutón y aparte de pasarlo muy bien en el hogar y recrearse en los juegos húmedos del baño, le encanta dar paseos al aire libre o incluso que lo saques a cenar porque gracias a su mando a distancia, podrás llevarlo puesto y activarlo allá donde tú quieras.Hazte ya las veinte mil leguas de viaje submarino con sus múltiples y diversas inmersiones.¡FREE BALLENATO!   \n",
       "3                                                                                                                                                                                                                                                                                                                                                                                                         Tanto si ya eras fan de nuestro querido TANDEM como si no lo conocías, te presentamos su nueva versión TANDEM 2 flex: más flexible, reducido, recargable, con dos motores y mando a distancia. Haz tu Tándem \"chica->chica\" o \"chica->chico\" y prepátrate, TANDEM 2 flex lo tiene todo para dar mientras tomas, con un plus de comodidad y vibraciones!Su nuevo diseño –más compacto- lo hace mucho más manejable, sin renunciar a la máxima calidad de su silicona suave y aterciopelada. TÁNDEM 2 flex lleva dos motores, uno para quien lo lleve puesto y otro en el dildo, que vibrarán al ritmo de 10 patrones de vibración diferentes y tres niveles de intensidad distintos, que puedes controlar desde el propio juguete o con… ¡un mando a distancia!Decide si quieres utilizarlo sin arnés o en combinación con un modelo abierto, como nuestro precioso arnés-braguita de amantis, que te aportará un extra de sujeción para no tener que preocuparte por nada. Se adapta a cualquier cuerpo gracias a su flexibilidad y, si deseas darle mayor abertura, ábrelo y cierralo con tus manos varias veces para aumentar su arco antes del primer uso.¿Necesitas algún motivo más para hacerte con él? Pues aquí lo tienes… TÁNDEM 2 flex es salpicable, así que podréis hacer realidad vuestras fantasías incluso en la ducha. ¿No es maravilloso? ¿Nos hacemos un TÁNDEM?   \n",
       "4  Los succionadores van evolucionando, vamos descubriendo más y más formas de obtener placer. ¿Cómo podemos obtener más placer? Una bonita manera de regalarte un orgasmo potente e intenso es haciendo que sea más deseado, es decir, alargando la fase previa al orgasmo, osea la fase de la excitación.Para ello la clave está en combinar diferentes tipos de estimulaciones y también estimular otras zonas antes de ir directamente al grano. FOXY es un juguete de doble estimulación y focalizador de puntos erógenos más precisos por sus orejitas. Por un lado el mango es un vibrador que alcanza hasta 3 intensidades de vibración diferentes y 4 combinaciones rítmicas, estas vibraciones se trasladan a las orejitas de la parte superior del juguete y te servirán para focalizar en zonas más pequeñitas, ¡pero no menos importantes! Estas zonas son zonas con multitud de terminaciones nerviosas y nos referimos a zonas como los labios, el cuello, los pezones, el cráneo, los glúteos etc.FOXY, a su vez, también es un succionador sónico; la succión sónica consigue que la estimulación no solo se aplique al glande externo del clítoris. Gracias a sus toques rítmicos, a través de sus ondas longitudinales, también masajea sus raíces internas haciendo que los orgasmos sean mucho más intensos.FOXY es un juguete que nos ofrece una estimulación simultánea combinando la vibración y la succión, pero su tecnología nos permite también estimularnos de manera alterna para poder alargar más los niveles de intensidad media y hacernos desear más el orgasmo. No olvides que los juguetes son un elemento maravilloso para introducir en las relaciones. Notareis como subirán vuestros niveles de confianza y conectaréis de una manera muy especial.   \n",
       "\n",
       "                                                                                                                                                                                                                                                                                                                                                                                                                                                                                                                                                                                                                                                                                                                                                                                                                                                                                                                                                                                                                                                                                                                                                                                                                                                                                                                                                                                                                                                                                                                                                                                                                                                                                                                                                                                                                                                                     CHARACTERISTICS  \\\n",
       "0                                                                                                                                                                                                                                                                                                                                                                                                                                                                                                                                                                                                                                                                                                                                                                                                                                                                                                                                                                                                                                                                                                                                                                                                                                                                                                                                                                                                                                                                                                                                                                                                                                                                                        Bote de 100ml de venta exclusiva en amantis.net y tiendas amantis.Ingredientes: Aquam glycerin, hydroxyethylcellulose, diazolidinyl urea, sodium benzoate, potassium sorbate, citric acid.    \n",
       "1                                                                                                                                                                                                                                                                                                                                                                                                                                                                                                                                                                                                                                                                                                                                                                                                                                                                                                                                                                                                    Medidas: 19cm (11cm insertables) y 3,3cm/ 2,2cm (ancho máximo/ mínimo)Material: Silicona médica + ABSVibración: 10 modos + 6 intensidadesEfecto calor independienteRecargable (cable USB incluido)Sumergible IPX7Función de bloqueo para viajesIncluye estuche rígido y bolsa de saténColor: púrpura o negroLimpieza y conservación: Recordamos que el uso de lubricante es aconsejable para cualquier actividad sexual (siempre con base de agua al utilizar juguetes de silicona). No olvides lavar tus juguetes antes y después de cada uso, con agua y jabón neutro o un limpiador específico de acción desinfectante y bactericida, como nuestro spray limpiador Limpín. Todos los juguetes deben estar separados entre sí, en un lugar fresco y seco; para ello puedes utilizar la bolsa de satén incluida o una de nuestras bolsas de terciopelo en diferentes tamaños.    \n",
       "2                                                                                                                                                                                                                                                                                                                                                                                                                                                                                                                                                                                                                                                                                                                                                                                                                                                                                                                                                                                                                                                                                                                                                                   Mando a distancia.Peso 62 gramos.Silicona médica.5 modos de vibración.Recargable (cable USB incluido). Tiempo de carga: 2h. Tiempo de uso: 1,5h.Sumergible.Color: Rosa o azul pastel.Limpieza y conservación:Recordamos que el uso de lubricante es aconsejable para cualquier actividad sexual (siempre con base de agua al utilizar juguetes de silicona). No olvides lavar tus juguetes antes y despus de cada uso, con agua y jabón neutro o un limpiador específico de acción desinfectante y bactericida, como nuestro spray limpiadorLimpín. Todos los juguetes deben estar separados entre sí, en un lugar fresco y seco; para ello puedes utilizar nuestrasbolsas de terciopelo en diferentes tamaños.    \n",
       "3                                                                                                                                                                                                                                                                                                                                                                                                                                                                                                                                                                                                                                                                                                                                                                                                                                                                                                                                                                                                                                                                               10 patrones de vibración diferentes y tres niveles de intensidadMaterial: silicona y ABSLongitud operativa: 12 cm (dildo externo) / 8 cm (parte interna)Diámetro máximo: 3,4 cm (dildo externo) / 3,6 c, (parte interna)Sumergible IPX7 (no sumergir el mando)Batería de litio recargable (con cargador USB incluido)Tiempo de carga: 3 horasAutonomía: 1 hora (en uso) / 3 meses (en standby)El mando a distancia funciona con una pila CR2032 (incluida)Color: negro, rosa o púrpuraUsar con lubricante de base acuosa Limpiar correctamente antes y después de cada uso (con jabón neutro y/o bactericida tipo Límpín)Guardar en una bolsa de tela transpirable, alejado de la luz solar directa y de manera individual. Los juguetes sexuales no deben almacenarse nunca en contacto con otros.    \n",
       "4  Vibrador con orejitas y succión simultáneaMateriales: Silicona de grado médico + ABSColores: rosa2 horas de uso continuado120 minutos para una carga completa.3 intensidades de vibración y 4 combinaciones rítmicas vibratorias.3 intensidades de succión y 4 combinaciones rítmicas de succión.Sumergible IPX7Recargable (cargador USB incluído)Como se usa vibrador succionador FOXYPuedes probar a activar su vibración y utilizar las orejitas para ir despertando la excitación poco a poco, cuanto más poco a poco vayas más deseo generas y más beneficiosos serán tus orgasmos.Recuerda que una vez tus genitales estén despiertos, tu clítoris está preparado para recibir placer, ahí puedes activar la succión de ondas e ir aumentando la velocidad de las mismas conforme la excitación vaya subiendo.FOXY tiene dos botones en la parte interna del mango, el que está abajo es el botón de encendido; pulsando tres segundos sentirás un pequeño toque de vibración y una luz se encenderá. Estos dos indicadores te harán saber que el juguete está encendido. Volviendo a apretar el botón de encendido, esta vez con una pulsación corta, activarás la vibración, y si pulsas el de arriba, la succión. Con las tres primeras pulsaciones cortas en ambos botones podrás ir cambiando de intensidad y, en las siguientes tres, encontrarás diferentes combinaciones rítmicas.Cada día estarás en un mood diferente, así que te recomendamos que hagas lo que te pida el cuerpo y fluyas con las diferentes combinaciones que FOXY te ofrece.No olvides acompañarlo con tu lubricante base de agua preferido, como Desliz!, y limpiarlo antes y después de cada uso con agua tibia y un jabón neutro, o un jabón bactericida como Limpín. Sécalo bien antes de guardarlo y mantenlo alejado de otros juguetes, por ejemplo en una de nuestras bolsas de satén.    \n",
       "\n",
       "                                                                         LISTA_URL  \\\n",
       "0                     https://www.amantis.net/desliz-lubricante-intimo-agua-100ml/   \n",
       "1     https://www.amantis.net/tobogane-hot-rabbit-el-superventas-amantis-mejorado/   \n",
       "2  https://www.amantis.net/ballenato-tu-vibrador-distancia-aleta-movil-sumergible/   \n",
       "3             https://www.amantis.net/tandem-2-flex-vibrador-doble-flexible-mando/   \n",
       "4                      https://www.amantis.net/foxy-vibrador-succionador-orejitas/   \n",
       "\n",
       "   REGULAR_PRICE  DISCOUNT_PRICE  \n",
       "0           9.99            7.99  \n",
       "1          89.99           39.99  \n",
       "2          99.99           49.99  \n",
       "3         109.99           49.99  \n",
       "4          59.99           39.99  "
      ]
     },
     "execution_count": 12,
     "metadata": {},
     "output_type": "execute_result"
    }
   ],
   "source": [
    "col_1 = dataframe.pop('PRODUCT')\n",
    "col_2=dataframe.pop('SLOGAN')\n",
    "col_3=dataframe.pop('DESCRIPTION')\n",
    "col_4=dataframe.pop('CHARACTERISTICS')\n",
    "\n",
    "dataframe.drop(columns=['NAME'],inplace=True)\n",
    "dataframe.drop(columns=['INFO'],inplace=True)\n",
    "\n",
    "dataframe.insert(loc= 1 , column= 'PRODUCT', value= col_1)\n",
    "dataframe.insert(loc= 2 , column= 'SLOGAN', value= col_2)\n",
    "dataframe.insert(loc= 3 , column= 'DESCRIPTION', value= col_3)\n",
    "dataframe.insert(loc= 4 , column= 'CHARACTERISTICS', value= col_4)\n",
    "dataframe.head()\n",
    "\n",
    "\n",
    "# col_1 = dataframe.pop('Product')\n",
    "# col_2=dataframe.pop('Slogan')\n",
    "# col_3=dataframe.pop('Characteristics')\n",
    "# dataframe.drop(columns=['Name'],inplace=True)\n",
    "\n",
    "# dataframe.insert(loc= 0 , column= 'Product', value= col_1)\n",
    "# dataframe.insert(loc= 1 , column= 'Slogan', value= col_2)\n",
    "# dataframe.insert(loc= 3 , column= 'Characteristics', value= col_3)\n",
    "# dataframe.head()"
   ]
  },
  {
   "attachments": {},
   "cell_type": "markdown",
   "metadata": {},
   "source": [
    "Pasamos a un fichero .csv para guardarlo"
   ]
  },
  {
   "cell_type": "code",
   "execution_count": 13,
   "metadata": {},
   "outputs": [
    {
     "data": {
      "text/html": [
       "<div>\n",
       "<style scoped>\n",
       "    .dataframe tbody tr th:only-of-type {\n",
       "        vertical-align: middle;\n",
       "    }\n",
       "\n",
       "    .dataframe tbody tr th {\n",
       "        vertical-align: top;\n",
       "    }\n",
       "\n",
       "    .dataframe thead th {\n",
       "        text-align: right;\n",
       "    }\n",
       "</style>\n",
       "<table border=\"1\" class=\"dataframe\">\n",
       "  <thead>\n",
       "    <tr style=\"text-align: right;\">\n",
       "      <th></th>\n",
       "      <th>ID</th>\n",
       "      <th>PRODUCT</th>\n",
       "      <th>SLOGAN</th>\n",
       "      <th>DESCRIPTION</th>\n",
       "    </tr>\n",
       "  </thead>\n",
       "  <tbody>\n",
       "    <tr>\n",
       "      <th>0</th>\n",
       "      <td>0</td>\n",
       "      <td>Desliz! Lubricante íntimo de agua 100ml</td>\n",
       "      <td>None</td>\n",
       "      <td>Algunos lubricantes son un poco densos, otros muy líquidos, unos pringan, otros se absorben demasiado rápido, unos son muy caros, otros son de baja calidad... tras años trabajando con más de 15 marcas de lubricantes íntimos, en amantis y amantis.net nos hemos decidido a buscar la fórmula más equilibrada posible, creemos tenerla en nuestras manos...Desliz! de agua, es un lubricante íntimo concentrado y duradero. Por su densidad es ideal para el uso con juguetes eróticos de cualquier material, 100% compatible con preservativos, perfecto para el uso como lubricante íntimo vaginal. Complementa y facilita las relaciones sexuales.Sin olor ni sabor, no mancha, totalmente hipoalergénico y altamente hidratante dejará tu piel suave y deslizante incluso después de su total absorción.</td>\n",
       "    </tr>\n",
       "    <tr>\n",
       "      <th>1</th>\n",
       "      <td>1</td>\n",
       "      <td>TOBOGANE HOT RABBIT</td>\n",
       "      <td>el superventas de amantis ¡mejorado!</td>\n",
       "      <td>Vuelve nuestro vibrador de doble estimulación más vendido de AMANTIS… ¡Ahora con rabbit!Si ya conoces a TOBOGANE, nuestro súperventas con doble motor, mango ergonómico gracias a su anilla y efecto calor, vas a enamorarte completamente de su versión más actualizada; le hemos añadido las orejitas a su brazo de estimulación externa y el resultado es un potente conejo que bordeará y hará trepidar a tu clítoris (o perineo) para una estimulación más completa, precisa y profunda.Esta nueva versión Rabbit, cuenta con 2 motores: uno en cada brazo de estimulación dual (interna y externa) con 10 patrones de vibración combinándolos de forma independiente y otro de efecto calor… que caldeará y templará a tu adorado juguete para tener una experiencia total HOT sin sobresaltos.Déjate caer por un tobogán de sensaciones y por las sinuosas curvas del nuevo TOBOGANE RABBIT… que está vez te hará también saltar.</td>\n",
       "    </tr>\n",
       "    <tr>\n",
       "      <th>2</th>\n",
       "      <td>2</td>\n",
       "      <td>BALLENATO</td>\n",
       "      <td>tu vibrador a distancia con aleta móvil y sumergible</td>\n",
       "      <td>De las profundidades más húmedas llega BALLENATO, el nuevo vibrador ergonómico de AMANTIS.Este grandioso cetáceo vibrante es poseedor de una colita estructurada que adquiere la forma que tú le des. De tal manera que podrías usarlo: como un potente dildo (dejando la aleta articulada en línea recta), como juguete de doble estimulación (vagina- clítoris / ano- perineo) o como vibrador tipo C (insertando sólo la parte de la aleta y permitiendo la penetración mientras lo llevas puesto)… entre muchas otras formas de estimulación externa.Además, BALLENATO es disfrutón y aparte de pasarlo muy bien en el hogar y recrearse en los juegos húmedos del baño, le encanta dar paseos al aire libre o incluso que lo saques a cenar porque gracias a su mando a distancia, podrás llevarlo puesto y activarlo allá donde tú quieras.Hazte ya las veinte mil leguas de viaje submarino con sus múltiples y diversas inmersiones.¡FREE BALLENATO!</td>\n",
       "    </tr>\n",
       "    <tr>\n",
       "      <th>3</th>\n",
       "      <td>3</td>\n",
       "      <td>TANDEM 2 flex</td>\n",
       "      <td>vibrador doble flexible con mando</td>\n",
       "      <td>Tanto si ya eras fan de nuestro querido TANDEM como si no lo conocías, te presentamos su nueva versión TANDEM 2 flex: más flexible, reducido, recargable, con dos motores y mando a distancia. Haz tu Tándem \"chica-&gt;chica\" o \"chica-&gt;chico\" y prepátrate, TANDEM 2 flex lo tiene todo para dar mientras tomas, con un plus de comodidad y vibraciones!Su nuevo diseño –más compacto- lo hace mucho más manejable, sin renunciar a la máxima calidad de su silicona suave y aterciopelada. TÁNDEM 2 flex lleva dos motores, uno para quien lo lleve puesto y otro en el dildo, que vibrarán al ritmo de 10 patrones de vibración diferentes y tres niveles de intensidad distintos, que puedes controlar desde el propio juguete o con… ¡un mando a distancia!Decide si quieres utilizarlo sin arnés o en combinación con un modelo abierto, como nuestro precioso arnés-braguita de amantis, que te aportará un extra de sujeción para no tener que preocuparte por nada. Se adapta a cualquier cuerpo gracias a su flexibilidad y, si deseas darle mayor abertura, ábrelo y cierralo con tus manos varias veces para aumentar su arco antes del primer uso.¿Necesitas algún motivo más para hacerte con él? Pues aquí lo tienes… TÁNDEM 2 flex es salpicable, así que podréis hacer realidad vuestras fantasías incluso en la ducha. ¿No es maravilloso? ¿Nos hacemos un TÁNDEM?</td>\n",
       "    </tr>\n",
       "    <tr>\n",
       "      <th>4</th>\n",
       "      <td>4</td>\n",
       "      <td>FOXY</td>\n",
       "      <td>Succionador con mango vibrador y orejitas</td>\n",
       "      <td>Los succionadores van evolucionando, vamos descubriendo más y más formas de obtener placer. ¿Cómo podemos obtener más placer? Una bonita manera de regalarte un orgasmo potente e intenso es haciendo que sea más deseado, es decir, alargando la fase previa al orgasmo, osea la fase de la excitación.Para ello la clave está en combinar diferentes tipos de estimulaciones y también estimular otras zonas antes de ir directamente al grano. FOXY es un juguete de doble estimulación y focalizador de puntos erógenos más precisos por sus orejitas. Por un lado el mango es un vibrador que alcanza hasta 3 intensidades de vibración diferentes y 4 combinaciones rítmicas, estas vibraciones se trasladan a las orejitas de la parte superior del juguete y te servirán para focalizar en zonas más pequeñitas, ¡pero no menos importantes! Estas zonas son zonas con multitud de terminaciones nerviosas y nos referimos a zonas como los labios, el cuello, los pezones, el cráneo, los glúteos etc.FOXY, a su vez, también es un succionador sónico; la succión sónica consigue que la estimulación no solo se aplique al glande externo del clítoris. Gracias a sus toques rítmicos, a través de sus ondas longitudinales, también masajea sus raíces internas haciendo que los orgasmos sean mucho más intensos.FOXY es un juguete que nos ofrece una estimulación simultánea combinando la vibración y la succión, pero su tecnología nos permite también estimularnos de manera alterna para poder alargar más los niveles de intensidad media y hacernos desear más el orgasmo. No olvides que los juguetes son un elemento maravilloso para introducir en las relaciones. Notareis como subirán vuestros niveles de confianza y conectaréis de una manera muy especial.</td>\n",
       "    </tr>\n",
       "  </tbody>\n",
       "</table>\n",
       "</div>"
      ],
      "text/plain": [
       "   ID                                  PRODUCT  \\\n",
       "0   0  Desliz! Lubricante íntimo de agua 100ml   \n",
       "1   1                      TOBOGANE HOT RABBIT   \n",
       "2   2                                BALLENATO   \n",
       "3   3                            TANDEM 2 flex   \n",
       "4   4                                     FOXY   \n",
       "\n",
       "                                                 SLOGAN  \\\n",
       "0                                                  None   \n",
       "1                  el superventas de amantis ¡mejorado!   \n",
       "2  tu vibrador a distancia con aleta móvil y sumergible   \n",
       "3                     vibrador doble flexible con mando   \n",
       "4             Succionador con mango vibrador y orejitas   \n",
       "\n",
       "                                                                                                                                                                                                                                                                                                                                                                                                                                                                                                                                                                                                                                                                                                                                                                                                                                                                                                                                                                                                                                                                                                                                                                                                                                                                                                                                                                                                                                                                                                                                                                                                                                                                                                                                                                                 DESCRIPTION  \n",
       "0                                                                                                                                                                                                                                                                                                                                                                                                                                                                                                                                                                                                                                                                                                                                                                                                                                                                                                                                                                            Algunos lubricantes son un poco densos, otros muy líquidos, unos pringan, otros se absorben demasiado rápido, unos son muy caros, otros son de baja calidad... tras años trabajando con más de 15 marcas de lubricantes íntimos, en amantis y amantis.net nos hemos decidido a buscar la fórmula más equilibrada posible, creemos tenerla en nuestras manos...Desliz! de agua, es un lubricante íntimo concentrado y duradero. Por su densidad es ideal para el uso con juguetes eróticos de cualquier material, 100% compatible con preservativos, perfecto para el uso como lubricante íntimo vaginal. Complementa y facilita las relaciones sexuales.Sin olor ni sabor, no mancha, totalmente hipoalergénico y altamente hidratante dejará tu piel suave y deslizante incluso después de su total absorción.  \n",
       "1                                                                                                                                                                                                                                                                                                                                                                                                                                                                                                                                                                                                                                                                                                                                                                                                                                                   Vuelve nuestro vibrador de doble estimulación más vendido de AMANTIS… ¡Ahora con rabbit!Si ya conoces a TOBOGANE, nuestro súperventas con doble motor, mango ergonómico gracias a su anilla y efecto calor, vas a enamorarte completamente de su versión más actualizada; le hemos añadido las orejitas a su brazo de estimulación externa y el resultado es un potente conejo que bordeará y hará trepidar a tu clítoris (o perineo) para una estimulación más completa, precisa y profunda.Esta nueva versión Rabbit, cuenta con 2 motores: uno en cada brazo de estimulación dual (interna y externa) con 10 patrones de vibración combinándolos de forma independiente y otro de efecto calor… que caldeará y templará a tu adorado juguete para tener una experiencia total HOT sin sobresaltos.Déjate caer por un tobogán de sensaciones y por las sinuosas curvas del nuevo TOBOGANE RABBIT… que está vez te hará también saltar.  \n",
       "2                                                                                                                                                                                                                                                                                                                                                                                                                                                                                                                                                                                                                                                                                                                                                                                                                               De las profundidades más húmedas llega BALLENATO, el nuevo vibrador ergonómico de AMANTIS.Este grandioso cetáceo vibrante es poseedor de una colita estructurada que adquiere la forma que tú le des. De tal manera que podrías usarlo: como un potente dildo (dejando la aleta articulada en línea recta), como juguete de doble estimulación (vagina- clítoris / ano- perineo) o como vibrador tipo C (insertando sólo la parte de la aleta y permitiendo la penetración mientras lo llevas puesto)… entre muchas otras formas de estimulación externa.Además, BALLENATO es disfrutón y aparte de pasarlo muy bien en el hogar y recrearse en los juegos húmedos del baño, le encanta dar paseos al aire libre o incluso que lo saques a cenar porque gracias a su mando a distancia, podrás llevarlo puesto y activarlo allá donde tú quieras.Hazte ya las veinte mil leguas de viaje submarino con sus múltiples y diversas inmersiones.¡FREE BALLENATO!  \n",
       "3                                                                                                                                                                                                                                                                                                                                                                                                         Tanto si ya eras fan de nuestro querido TANDEM como si no lo conocías, te presentamos su nueva versión TANDEM 2 flex: más flexible, reducido, recargable, con dos motores y mando a distancia. Haz tu Tándem \"chica->chica\" o \"chica->chico\" y prepátrate, TANDEM 2 flex lo tiene todo para dar mientras tomas, con un plus de comodidad y vibraciones!Su nuevo diseño –más compacto- lo hace mucho más manejable, sin renunciar a la máxima calidad de su silicona suave y aterciopelada. TÁNDEM 2 flex lleva dos motores, uno para quien lo lleve puesto y otro en el dildo, que vibrarán al ritmo de 10 patrones de vibración diferentes y tres niveles de intensidad distintos, que puedes controlar desde el propio juguete o con… ¡un mando a distancia!Decide si quieres utilizarlo sin arnés o en combinación con un modelo abierto, como nuestro precioso arnés-braguita de amantis, que te aportará un extra de sujeción para no tener que preocuparte por nada. Se adapta a cualquier cuerpo gracias a su flexibilidad y, si deseas darle mayor abertura, ábrelo y cierralo con tus manos varias veces para aumentar su arco antes del primer uso.¿Necesitas algún motivo más para hacerte con él? Pues aquí lo tienes… TÁNDEM 2 flex es salpicable, así que podréis hacer realidad vuestras fantasías incluso en la ducha. ¿No es maravilloso? ¿Nos hacemos un TÁNDEM?  \n",
       "4  Los succionadores van evolucionando, vamos descubriendo más y más formas de obtener placer. ¿Cómo podemos obtener más placer? Una bonita manera de regalarte un orgasmo potente e intenso es haciendo que sea más deseado, es decir, alargando la fase previa al orgasmo, osea la fase de la excitación.Para ello la clave está en combinar diferentes tipos de estimulaciones y también estimular otras zonas antes de ir directamente al grano. FOXY es un juguete de doble estimulación y focalizador de puntos erógenos más precisos por sus orejitas. Por un lado el mango es un vibrador que alcanza hasta 3 intensidades de vibración diferentes y 4 combinaciones rítmicas, estas vibraciones se trasladan a las orejitas de la parte superior del juguete y te servirán para focalizar en zonas más pequeñitas, ¡pero no menos importantes! Estas zonas son zonas con multitud de terminaciones nerviosas y nos referimos a zonas como los labios, el cuello, los pezones, el cráneo, los glúteos etc.FOXY, a su vez, también es un succionador sónico; la succión sónica consigue que la estimulación no solo se aplique al glande externo del clítoris. Gracias a sus toques rítmicos, a través de sus ondas longitudinales, también masajea sus raíces internas haciendo que los orgasmos sean mucho más intensos.FOXY es un juguete que nos ofrece una estimulación simultánea combinando la vibración y la succión, pero su tecnología nos permite también estimularnos de manera alterna para poder alargar más los niveles de intensidad media y hacernos desear más el orgasmo. No olvides que los juguetes son un elemento maravilloso para introducir en las relaciones. Notareis como subirán vuestros niveles de confianza y conectaréis de una manera muy especial.  "
      ]
     },
     "execution_count": 13,
     "metadata": {},
     "output_type": "execute_result"
    }
   ],
   "source": [
    "df_engineer=dataframe.iloc[:,:4]\n",
    "df_engineer.head()"
   ]
  },
  {
   "cell_type": "code",
   "execution_count": 14,
   "metadata": {},
   "outputs": [],
   "source": [
    "dataframe.to_csv('./Data/productos.csv',header=True,index=False)\n",
    "df_engineer.to_csv('./Data/tags.csv',header=True,index=False)"
   ]
  },
  {
   "attachments": {},
   "cell_type": "markdown",
   "metadata": {},
   "source": [
    "## 3.- Adecuamos el campo **Date**.\n",
    "\n",
    "Este campo en el fichero de comentarios es de tipo *string*, dado que no lo reconoce como date.\n",
    "\n",
    "Hay que solucionarlo, para lo cual elimineramos el día de la semana del mismo dejando el resto del texto y convirtiéndolo en tipo date.\n"
   ]
  },
  {
   "cell_type": "code",
   "execution_count": 34,
   "metadata": {},
   "outputs": [],
   "source": [
    "comentarios=r'\\Data\\comentarios_scrape.csv'"
   ]
  },
  {
   "cell_type": "code",
   "execution_count": 35,
   "metadata": {},
   "outputs": [],
   "source": [
    "folder\n",
    "new_path =folder+comentarios\n",
    "df_comments=pd.read_csv(new_path,index_col=False)"
   ]
  },
  {
   "cell_type": "code",
   "execution_count": 36,
   "metadata": {},
   "outputs": [
    {
     "data": {
      "text/html": [
       "<div>\n",
       "<style scoped>\n",
       "    .dataframe tbody tr th:only-of-type {\n",
       "        vertical-align: middle;\n",
       "    }\n",
       "\n",
       "    .dataframe tbody tr th {\n",
       "        vertical-align: top;\n",
       "    }\n",
       "\n",
       "    .dataframe thead th {\n",
       "        text-align: right;\n",
       "    }\n",
       "</style>\n",
       "<table border=\"1\" class=\"dataframe\">\n",
       "  <thead>\n",
       "    <tr style=\"text-align: right;\">\n",
       "      <th></th>\n",
       "      <th>Unnamed: 0</th>\n",
       "      <th>ID</th>\n",
       "      <th>DATE</th>\n",
       "      <th>RATIO</th>\n",
       "      <th>USERS</th>\n",
       "      <th>COMMENT</th>\n",
       "    </tr>\n",
       "  </thead>\n",
       "  <tbody>\n",
       "    <tr>\n",
       "      <th>0</th>\n",
       "      <td>0</td>\n",
       "      <td>0</td>\n",
       "      <td>jueves 18 mayo, 2023</td>\n",
       "      <td>5</td>\n",
       "      <td>David</td>\n",
       "      <td>Muy recomendable. El bote cunde, hidrata muy bien, sirve para todos los juguetes. Incoloro, sin sabor. Puede que un poco pegajoso al principio, pero nada más. Muy contento.</td>\n",
       "    </tr>\n",
       "    <tr>\n",
       "      <th>1</th>\n",
       "      <td>1</td>\n",
       "      <td>0</td>\n",
       "      <td>miércoles 12 abril, 2023</td>\n",
       "      <td>5</td>\n",
       "      <td>Ferran</td>\n",
       "      <td>Es la primera vez que compro este lubricante y pese a que siempre se pueden descubrir cosas mejores, me parece que este se va a convertir en mi lubricante número 1 diario para usar con mis juguetes. Espero que con las chicas funcione igual de bien.</td>\n",
       "    </tr>\n",
       "    <tr>\n",
       "      <th>2</th>\n",
       "      <td>2</td>\n",
       "      <td>0</td>\n",
       "      <td>lunes 10 abril, 2023</td>\n",
       "      <td>5</td>\n",
       "      <td>Sergio</td>\n",
       "      <td>He probado varios tipos de lubricante y este de momento es el mejor. Lo he usado con masturbadores, para el pene y mano y para el ano y va perfecto en todo</td>\n",
       "    </tr>\n",
       "    <tr>\n",
       "      <th>3</th>\n",
       "      <td>3</td>\n",
       "      <td>0</td>\n",
       "      <td>lunes 23 enero, 2023</td>\n",
       "      <td>5</td>\n",
       "      <td>Jaime</td>\n",
       "      <td>Perfecto para embadurnarte el pincelin y meter hasta el último centímetro</td>\n",
       "    </tr>\n",
       "    <tr>\n",
       "      <th>4</th>\n",
       "      <td>4</td>\n",
       "      <td>0</td>\n",
       "      <td>miércoles 11 enero, 2023</td>\n",
       "      <td>5</td>\n",
       "      <td>YASMINA</td>\n",
       "      <td>Buen producto, tanto para el cuerpo a cuerpo como para lubricar los jueguetes. Es una compra segura y muy acertada.</td>\n",
       "    </tr>\n",
       "  </tbody>\n",
       "</table>\n",
       "</div>"
      ],
      "text/plain": [
       "   Unnamed: 0  ID                      DATE  RATIO    USERS  \\\n",
       "0           0   0      jueves 18 mayo, 2023      5    David   \n",
       "1           1   0  miércoles 12 abril, 2023      5   Ferran   \n",
       "2           2   0      lunes 10 abril, 2023      5   Sergio   \n",
       "3           3   0      lunes 23 enero, 2023      5    Jaime   \n",
       "4           4   0  miércoles 11 enero, 2023      5  YASMINA   \n",
       "\n",
       "                                                                                                                                                                                                                                                    COMMENT  \n",
       "0                                                                              Muy recomendable. El bote cunde, hidrata muy bien, sirve para todos los juguetes. Incoloro, sin sabor. Puede que un poco pegajoso al principio, pero nada más. Muy contento.  \n",
       "1  Es la primera vez que compro este lubricante y pese a que siempre se pueden descubrir cosas mejores, me parece que este se va a convertir en mi lubricante número 1 diario para usar con mis juguetes. Espero que con las chicas funcione igual de bien.  \n",
       "2                                                                                               He probado varios tipos de lubricante y este de momento es el mejor. Lo he usado con masturbadores, para el pene y mano y para el ano y va perfecto en todo  \n",
       "3                                                                                                                                                                                 Perfecto para embadurnarte el pincelin y meter hasta el último centímetro  \n",
       "4                                                                                                                                       Buen producto, tanto para el cuerpo a cuerpo como para lubricar los jueguetes. Es una compra segura y muy acertada.  "
      ]
     },
     "execution_count": 36,
     "metadata": {},
     "output_type": "execute_result"
    }
   ],
   "source": [
    "df_comments.head()"
   ]
  },
  {
   "cell_type": "code",
   "execution_count": 37,
   "metadata": {},
   "outputs": [
    {
     "name": "stdout",
     "output_type": "stream",
     "text": [
      "<class 'pandas.core.frame.DataFrame'>\n",
      "RangeIndex: 10659 entries, 0 to 10658\n",
      "Data columns (total 6 columns):\n",
      " #   Column      Non-Null Count  Dtype \n",
      "---  ------      --------------  ----- \n",
      " 0   Unnamed: 0  10659 non-null  int64 \n",
      " 1   ID          10659 non-null  int64 \n",
      " 2   DATE        10659 non-null  object\n",
      " 3   RATIO       10659 non-null  int64 \n",
      " 4   USERS       10648 non-null  object\n",
      " 5   COMMENT     10659 non-null  object\n",
      "dtypes: int64(3), object(3)\n",
      "memory usage: 499.8+ KB\n"
     ]
    }
   ],
   "source": [
    "df_comments.info()"
   ]
  },
  {
   "attachments": {},
   "cell_type": "markdown",
   "metadata": {},
   "source": [
    "De la columna *DATE* extraigo los valores de *DAY*, *MONTH* y *YEAR*.\n",
    "\n",
    "Con la columna *MONTH* hago un mapeo para convertir en el número correspondiente del mes y así poder generar la nueva columna *DATE* con estos  datos."
   ]
  },
  {
   "cell_type": "code",
   "execution_count": 38,
   "metadata": {},
   "outputs": [
    {
     "data": {
      "text/html": [
       "<div>\n",
       "<style scoped>\n",
       "    .dataframe tbody tr th:only-of-type {\n",
       "        vertical-align: middle;\n",
       "    }\n",
       "\n",
       "    .dataframe tbody tr th {\n",
       "        vertical-align: top;\n",
       "    }\n",
       "\n",
       "    .dataframe thead th {\n",
       "        text-align: right;\n",
       "    }\n",
       "</style>\n",
       "<table border=\"1\" class=\"dataframe\">\n",
       "  <thead>\n",
       "    <tr style=\"text-align: right;\">\n",
       "      <th></th>\n",
       "      <th>Unnamed: 0</th>\n",
       "      <th>ID</th>\n",
       "      <th>DATE</th>\n",
       "      <th>RATIO</th>\n",
       "      <th>USERS</th>\n",
       "      <th>COMMENT</th>\n",
       "      <th>DAY</th>\n",
       "      <th>MONTH</th>\n",
       "      <th>YEAR</th>\n",
       "    </tr>\n",
       "  </thead>\n",
       "  <tbody>\n",
       "    <tr>\n",
       "      <th>0</th>\n",
       "      <td>0</td>\n",
       "      <td>0</td>\n",
       "      <td>jueves 18 mayo, 2023</td>\n",
       "      <td>5</td>\n",
       "      <td>David</td>\n",
       "      <td>Muy recomendable. El bote cunde, hidrata muy bien, sirve para todos los juguetes. Incoloro, sin sabor. Puede que un poco pegajoso al principio, pero nada más. Muy contento.</td>\n",
       "      <td>18</td>\n",
       "      <td>5</td>\n",
       "      <td>2023</td>\n",
       "    </tr>\n",
       "    <tr>\n",
       "      <th>1</th>\n",
       "      <td>1</td>\n",
       "      <td>0</td>\n",
       "      <td>miércoles 12 abril, 2023</td>\n",
       "      <td>5</td>\n",
       "      <td>Ferran</td>\n",
       "      <td>Es la primera vez que compro este lubricante y pese a que siempre se pueden descubrir cosas mejores, me parece que este se va a convertir en mi lubricante número 1 diario para usar con mis juguetes. Espero que con las chicas funcione igual de bien.</td>\n",
       "      <td>12</td>\n",
       "      <td>4</td>\n",
       "      <td>2023</td>\n",
       "    </tr>\n",
       "    <tr>\n",
       "      <th>2</th>\n",
       "      <td>2</td>\n",
       "      <td>0</td>\n",
       "      <td>lunes 10 abril, 2023</td>\n",
       "      <td>5</td>\n",
       "      <td>Sergio</td>\n",
       "      <td>He probado varios tipos de lubricante y este de momento es el mejor. Lo he usado con masturbadores, para el pene y mano y para el ano y va perfecto en todo</td>\n",
       "      <td>10</td>\n",
       "      <td>4</td>\n",
       "      <td>2023</td>\n",
       "    </tr>\n",
       "    <tr>\n",
       "      <th>3</th>\n",
       "      <td>3</td>\n",
       "      <td>0</td>\n",
       "      <td>lunes 23 enero, 2023</td>\n",
       "      <td>5</td>\n",
       "      <td>Jaime</td>\n",
       "      <td>Perfecto para embadurnarte el pincelin y meter hasta el último centímetro</td>\n",
       "      <td>23</td>\n",
       "      <td>1</td>\n",
       "      <td>2023</td>\n",
       "    </tr>\n",
       "    <tr>\n",
       "      <th>4</th>\n",
       "      <td>4</td>\n",
       "      <td>0</td>\n",
       "      <td>miércoles 11 enero, 2023</td>\n",
       "      <td>5</td>\n",
       "      <td>YASMINA</td>\n",
       "      <td>Buen producto, tanto para el cuerpo a cuerpo como para lubricar los jueguetes. Es una compra segura y muy acertada.</td>\n",
       "      <td>11</td>\n",
       "      <td>1</td>\n",
       "      <td>2023</td>\n",
       "    </tr>\n",
       "  </tbody>\n",
       "</table>\n",
       "</div>"
      ],
      "text/plain": [
       "   Unnamed: 0  ID                      DATE  RATIO    USERS  \\\n",
       "0           0   0      jueves 18 mayo, 2023      5    David   \n",
       "1           1   0  miércoles 12 abril, 2023      5   Ferran   \n",
       "2           2   0      lunes 10 abril, 2023      5   Sergio   \n",
       "3           3   0      lunes 23 enero, 2023      5    Jaime   \n",
       "4           4   0  miércoles 11 enero, 2023      5  YASMINA   \n",
       "\n",
       "                                                                                                                                                                                                                                                    COMMENT  \\\n",
       "0                                                                              Muy recomendable. El bote cunde, hidrata muy bien, sirve para todos los juguetes. Incoloro, sin sabor. Puede que un poco pegajoso al principio, pero nada más. Muy contento.   \n",
       "1  Es la primera vez que compro este lubricante y pese a que siempre se pueden descubrir cosas mejores, me parece que este se va a convertir en mi lubricante número 1 diario para usar con mis juguetes. Espero que con las chicas funcione igual de bien.   \n",
       "2                                                                                               He probado varios tipos de lubricante y este de momento es el mejor. Lo he usado con masturbadores, para el pene y mano y para el ano y va perfecto en todo   \n",
       "3                                                                                                                                                                                 Perfecto para embadurnarte el pincelin y meter hasta el último centímetro   \n",
       "4                                                                                                                                       Buen producto, tanto para el cuerpo a cuerpo como para lubricar los jueguetes. Es una compra segura y muy acertada.   \n",
       "\n",
       "   DAY  MONTH  YEAR  \n",
       "0   18      5  2023  \n",
       "1   12      4  2023  \n",
       "2   10      4  2023  \n",
       "3   23      1  2023  \n",
       "4   11      1  2023  "
      ]
     },
     "execution_count": 38,
     "metadata": {},
     "output_type": "execute_result"
    }
   ],
   "source": [
    "df_comments['DAY']=df_comments['DATE'].str.split(' ').str.get(1).astype('Int64')\n",
    "df_comments['MONTH']=df_comments['DATE'].str.split(' ').str.get(2).str.split(',').str.get(0)\n",
    "df_comments['YEAR']=df_comments['DATE'].str.split(' ').str.get(-1).astype('Int64')\n",
    "dm_mapping={\n",
    "    'enero':1, \n",
    "    'febrero':2, \n",
    "    'marzo':3, \n",
    "    'abril':4, \n",
    "    'mayo':5,\n",
    "    'junio':6, \n",
    "    'julio':7,\n",
    "    'agosto':8, \n",
    "    'septiembre':9, \n",
    "    'octubre':10, \n",
    "    'noviembre':11, \n",
    "    'diciembre':12,\n",
    "} \n",
    "df_comments['MONTH']=df_comments['MONTH'].map(dm_mapping)\n",
    "df_comments.head()"
   ]
  },
  {
   "attachments": {},
   "cell_type": "markdown",
   "metadata": {},
   "source": [
    "Convierto la columna *DATE* en datetime con los datos de las 3 últimas columnas."
   ]
  },
  {
   "cell_type": "code",
   "execution_count": 39,
   "metadata": {},
   "outputs": [
    {
     "data": {
      "text/html": [
       "<div>\n",
       "<style scoped>\n",
       "    .dataframe tbody tr th:only-of-type {\n",
       "        vertical-align: middle;\n",
       "    }\n",
       "\n",
       "    .dataframe tbody tr th {\n",
       "        vertical-align: top;\n",
       "    }\n",
       "\n",
       "    .dataframe thead th {\n",
       "        text-align: right;\n",
       "    }\n",
       "</style>\n",
       "<table border=\"1\" class=\"dataframe\">\n",
       "  <thead>\n",
       "    <tr style=\"text-align: right;\">\n",
       "      <th></th>\n",
       "      <th>Unnamed: 0</th>\n",
       "      <th>ID</th>\n",
       "      <th>DATE</th>\n",
       "      <th>RATIO</th>\n",
       "      <th>USERS</th>\n",
       "      <th>COMMENT</th>\n",
       "      <th>DAY</th>\n",
       "      <th>MONTH</th>\n",
       "      <th>YEAR</th>\n",
       "    </tr>\n",
       "  </thead>\n",
       "  <tbody>\n",
       "    <tr>\n",
       "      <th>10654</th>\n",
       "      <td>11546</td>\n",
       "      <td>574</td>\n",
       "      <td>2013-06-27</td>\n",
       "      <td>5</td>\n",
       "      <td>Laura</td>\n",
       "      <td>Una monada, quedan super sexy y genial para llevar el ritmo mientras le das al temita jeje. Ademas las pinzas ajustables van muy bien por si tienes los pezones muy sensibles. Y vienen en una cagita monisima, parece una mini-bombonera de lujo.</td>\n",
       "      <td>27</td>\n",
       "      <td>6</td>\n",
       "      <td>2013</td>\n",
       "    </tr>\n",
       "    <tr>\n",
       "      <th>10655</th>\n",
       "      <td>11547</td>\n",
       "      <td>574</td>\n",
       "      <td>2013-02-01</td>\n",
       "      <td>5</td>\n",
       "      <td>miguel</td>\n",
       "      <td>Hola este producto lo compramos y ese mismo día lo probamos.Es ideal y el regulador de presión es muy útil. Los cascabeles le dan un toque muy exóticoLo mejor de todo el precio, ya que lo hemos adquirido con una oferta sensacional.Lo recomendamos.</td>\n",
       "      <td>1</td>\n",
       "      <td>2</td>\n",
       "      <td>2013</td>\n",
       "    </tr>\n",
       "    <tr>\n",
       "      <th>10656</th>\n",
       "      <td>11548</td>\n",
       "      <td>575</td>\n",
       "      <td>2022-12-22</td>\n",
       "      <td>3</td>\n",
       "      <td>Marta</td>\n",
       "      <td>Lo malo de este juguete es la bola de la mordaza, prefiero otra de silicona y con agujeros para poder respirar mejor. No obstante, es un juguete muy hot para esos momentos de sumisión.</td>\n",
       "      <td>22</td>\n",
       "      <td>12</td>\n",
       "      <td>2022</td>\n",
       "    </tr>\n",
       "    <tr>\n",
       "      <th>10657</th>\n",
       "      <td>11549</td>\n",
       "      <td>575</td>\n",
       "      <td>2018-02-18</td>\n",
       "      <td>4</td>\n",
       "      <td>Héctor</td>\n",
       "      <td>Te limita un poco el movimiento... pero de eso se trata no? está genial</td>\n",
       "      <td>18</td>\n",
       "      <td>2</td>\n",
       "      <td>2018</td>\n",
       "    </tr>\n",
       "    <tr>\n",
       "      <th>10658</th>\n",
       "      <td>11550</td>\n",
       "      <td>575</td>\n",
       "      <td>2016-11-14</td>\n",
       "      <td>5</td>\n",
       "      <td>Francisco</td>\n",
       "      <td>me encanta. En la foto no se aprecia, pero se puede regular la distancia entre las esposas y el cuello. Inmoviliza a tu pareja totalmente, sobre todo en la posición del perrito. Huyyyyyyyyy......</td>\n",
       "      <td>14</td>\n",
       "      <td>11</td>\n",
       "      <td>2016</td>\n",
       "    </tr>\n",
       "  </tbody>\n",
       "</table>\n",
       "</div>"
      ],
      "text/plain": [
       "       Unnamed: 0   ID       DATE  RATIO      USERS  \\\n",
       "10654       11546  574 2013-06-27      5      Laura   \n",
       "10655       11547  574 2013-02-01      5     miguel   \n",
       "10656       11548  575 2022-12-22      3      Marta   \n",
       "10657       11549  575 2018-02-18      4     Héctor   \n",
       "10658       11550  575 2016-11-14      5  Francisco   \n",
       "\n",
       "                                                                                                                                                                                                                                                       COMMENT  \\\n",
       "10654       Una monada, quedan super sexy y genial para llevar el ritmo mientras le das al temita jeje. Ademas las pinzas ajustables van muy bien por si tienes los pezones muy sensibles. Y vienen en una cagita monisima, parece una mini-bombonera de lujo.   \n",
       "10655  Hola este producto lo compramos y ese mismo día lo probamos.Es ideal y el regulador de presión es muy útil. Los cascabeles le dan un toque muy exóticoLo mejor de todo el precio, ya que lo hemos adquirido con una oferta sensacional.Lo recomendamos.   \n",
       "10656                                                                 Lo malo de este juguete es la bola de la mordaza, prefiero otra de silicona y con agujeros para poder respirar mejor. No obstante, es un juguete muy hot para esos momentos de sumisión.   \n",
       "10657                                                                                                                                                                                  Te limita un poco el movimiento... pero de eso se trata no? está genial   \n",
       "10658                                                      me encanta. En la foto no se aprecia, pero se puede regular la distancia entre las esposas y el cuello. Inmoviliza a tu pareja totalmente, sobre todo en la posición del perrito. Huyyyyyyyyy......   \n",
       "\n",
       "       DAY  MONTH  YEAR  \n",
       "10654   27      6  2013  \n",
       "10655    1      2  2013  \n",
       "10656   22     12  2022  \n",
       "10657   18      2  2018  \n",
       "10658   14     11  2016  "
      ]
     },
     "execution_count": 39,
     "metadata": {},
     "output_type": "execute_result"
    }
   ],
   "source": [
    "df_comments['DATE'] = pd.to_datetime(df_comments.iloc[:,-3:])\n",
    "df_comments.tail()"
   ]
  },
  {
   "attachments": {},
   "cell_type": "markdown",
   "metadata": {},
   "source": [
    "Cabe la posibilidad de eliminar las 3 últimas columnas. \n",
    "\n",
    "Esto lo valoraremos después cuando hagamos visualizaciones.\n",
    "\n",
    "De momento lo dejaremos comentado."
   ]
  },
  {
   "cell_type": "code",
   "execution_count": 40,
   "metadata": {},
   "outputs": [
    {
     "data": {
      "text/html": [
       "<div>\n",
       "<style scoped>\n",
       "    .dataframe tbody tr th:only-of-type {\n",
       "        vertical-align: middle;\n",
       "    }\n",
       "\n",
       "    .dataframe tbody tr th {\n",
       "        vertical-align: top;\n",
       "    }\n",
       "\n",
       "    .dataframe thead th {\n",
       "        text-align: right;\n",
       "    }\n",
       "</style>\n",
       "<table border=\"1\" class=\"dataframe\">\n",
       "  <thead>\n",
       "    <tr style=\"text-align: right;\">\n",
       "      <th></th>\n",
       "      <th>Unnamed: 0</th>\n",
       "      <th>ID</th>\n",
       "      <th>DATE</th>\n",
       "      <th>RATIO</th>\n",
       "      <th>USERS</th>\n",
       "      <th>COMMENT</th>\n",
       "    </tr>\n",
       "  </thead>\n",
       "  <tbody>\n",
       "    <tr>\n",
       "      <th>0</th>\n",
       "      <td>0</td>\n",
       "      <td>0</td>\n",
       "      <td>2023-05-18</td>\n",
       "      <td>5</td>\n",
       "      <td>David</td>\n",
       "      <td>Muy recomendable. El bote cunde, hidrata muy bien, sirve para todos los juguetes. Incoloro, sin sabor. Puede que un poco pegajoso al principio, pero nada más. Muy contento.</td>\n",
       "    </tr>\n",
       "    <tr>\n",
       "      <th>1</th>\n",
       "      <td>1</td>\n",
       "      <td>0</td>\n",
       "      <td>2023-04-12</td>\n",
       "      <td>5</td>\n",
       "      <td>Ferran</td>\n",
       "      <td>Es la primera vez que compro este lubricante y pese a que siempre se pueden descubrir cosas mejores, me parece que este se va a convertir en mi lubricante número 1 diario para usar con mis juguetes. Espero que con las chicas funcione igual de bien.</td>\n",
       "    </tr>\n",
       "    <tr>\n",
       "      <th>2</th>\n",
       "      <td>2</td>\n",
       "      <td>0</td>\n",
       "      <td>2023-04-10</td>\n",
       "      <td>5</td>\n",
       "      <td>Sergio</td>\n",
       "      <td>He probado varios tipos de lubricante y este de momento es el mejor. Lo he usado con masturbadores, para el pene y mano y para el ano y va perfecto en todo</td>\n",
       "    </tr>\n",
       "    <tr>\n",
       "      <th>3</th>\n",
       "      <td>3</td>\n",
       "      <td>0</td>\n",
       "      <td>2023-01-23</td>\n",
       "      <td>5</td>\n",
       "      <td>Jaime</td>\n",
       "      <td>Perfecto para embadurnarte el pincelin y meter hasta el último centímetro</td>\n",
       "    </tr>\n",
       "    <tr>\n",
       "      <th>4</th>\n",
       "      <td>4</td>\n",
       "      <td>0</td>\n",
       "      <td>2023-01-11</td>\n",
       "      <td>5</td>\n",
       "      <td>YASMINA</td>\n",
       "      <td>Buen producto, tanto para el cuerpo a cuerpo como para lubricar los jueguetes. Es una compra segura y muy acertada.</td>\n",
       "    </tr>\n",
       "  </tbody>\n",
       "</table>\n",
       "</div>"
      ],
      "text/plain": [
       "   Unnamed: 0  ID       DATE  RATIO    USERS  \\\n",
       "0           0   0 2023-05-18      5    David   \n",
       "1           1   0 2023-04-12      5   Ferran   \n",
       "2           2   0 2023-04-10      5   Sergio   \n",
       "3           3   0 2023-01-23      5    Jaime   \n",
       "4           4   0 2023-01-11      5  YASMINA   \n",
       "\n",
       "                                                                                                                                                                                                                                                    COMMENT  \n",
       "0                                                                              Muy recomendable. El bote cunde, hidrata muy bien, sirve para todos los juguetes. Incoloro, sin sabor. Puede que un poco pegajoso al principio, pero nada más. Muy contento.  \n",
       "1  Es la primera vez que compro este lubricante y pese a que siempre se pueden descubrir cosas mejores, me parece que este se va a convertir en mi lubricante número 1 diario para usar con mis juguetes. Espero que con las chicas funcione igual de bien.  \n",
       "2                                                                                               He probado varios tipos de lubricante y este de momento es el mejor. Lo he usado con masturbadores, para el pene y mano y para el ano y va perfecto en todo  \n",
       "3                                                                                                                                                                                 Perfecto para embadurnarte el pincelin y meter hasta el último centímetro  \n",
       "4                                                                                                                                       Buen producto, tanto para el cuerpo a cuerpo como para lubricar los jueguetes. Es una compra segura y muy acertada.  "
      ]
     },
     "execution_count": 40,
     "metadata": {},
     "output_type": "execute_result"
    }
   ],
   "source": [
    "df_comments=df_comments.iloc[:,:-3]\n",
    "df_comments.head()"
   ]
  },
  {
   "cell_type": "code",
   "execution_count": 41,
   "metadata": {},
   "outputs": [
    {
     "name": "stdout",
     "output_type": "stream",
     "text": [
      "<class 'pandas.core.frame.DataFrame'>\n",
      "RangeIndex: 10659 entries, 0 to 10658\n",
      "Data columns (total 6 columns):\n",
      " #   Column      Non-Null Count  Dtype         \n",
      "---  ------      --------------  -----         \n",
      " 0   Unnamed: 0  10659 non-null  int64         \n",
      " 1   ID          10659 non-null  int64         \n",
      " 2   DATE        10659 non-null  datetime64[ns]\n",
      " 3   RATIO       10659 non-null  int64         \n",
      " 4   USERS       10648 non-null  object        \n",
      " 5   COMMENT     10659 non-null  object        \n",
      "dtypes: datetime64[ns](1), int64(3), object(2)\n",
      "memory usage: 499.8+ KB\n"
     ]
    }
   ],
   "source": [
    "df_comments.info()"
   ]
  },
  {
   "cell_type": "code",
   "execution_count": 44,
   "metadata": {},
   "outputs": [],
   "source": [
    "df_comments.to_csv('./Data/comentarios.csv',header=True,index=True)           # Tengo que generar el path correcto"
   ]
  }
 ],
 "metadata": {
  "kernelspec": {
   "display_name": "Python 3",
   "language": "python",
   "name": "python3"
  },
  "language_info": {
   "codemirror_mode": {
    "name": "ipython",
    "version": 3
   },
   "file_extension": ".py",
   "mimetype": "text/x-python",
   "name": "python",
   "nbconvert_exporter": "python",
   "pygments_lexer": "ipython3",
   "version": "3.10.11"
  },
  "orig_nbformat": 4
 },
 "nbformat": 4,
 "nbformat_minor": 2
}

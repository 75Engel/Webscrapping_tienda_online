{
 "cells": [
  {
   "attachments": {},
   "cell_type": "markdown",
   "metadata": {},
   "source": [
    "# Almacenamiento de datos"
   ]
  },
  {
   "attachments": {},
   "cell_type": "markdown",
   "metadata": {},
   "source": [
    "## Introducción\n",
    "\n",
    "Vamos a generar una BBDD Relacional para el almacenamiento de los registros que hemos obtenido hasta ahora.\n",
    "\n",
    "En este momento del proyecto (mayo/23) prepararemos una base de datos con 2 Tablas y posteriormente generaremos una tercera tabla con las variables que habremos generado en el notebook de Engineering para generar #tags. "
   ]
  },
  {
   "attachments": {},
   "cell_type": "markdown",
   "metadata": {},
   "source": [
    "## Librerías"
   ]
  },
  {
   "cell_type": "code",
   "execution_count": 1,
   "metadata": {},
   "outputs": [],
   "source": [
    "import pandas as pd\n",
    "import numpy as np\n",
    "import os\n",
    "from datetime import datetime\n",
    "import sqlite3\n",
    "# import mysql.connector\n"
   ]
  },
  {
   "cell_type": "code",
   "execution_count": 2,
   "metadata": {},
   "outputs": [
    {
     "data": {
      "text/plain": [
       "'d:\\\\Data_science\\\\Javier\\\\Repositorios\\\\Proyecto_tienda_online'"
      ]
     },
     "execution_count": 2,
     "metadata": {},
     "output_type": "execute_result"
    }
   ],
   "source": [
    "os.chdir(os.path.split(os.getcwd())[0])\n",
    "folder=os.getcwd()\n",
    "folder"
   ]
  },
  {
   "attachments": {},
   "cell_type": "markdown",
   "metadata": {},
   "source": [
    "## Estructuras de la BBDD"
   ]
  },
  {
   "attachments": {},
   "cell_type": "markdown",
   "metadata": {},
   "source": [
    "![Estructura_tablas](../Resources/image/Relacion_tablas.jpg)"
   ]
  },
  {
   "attachments": {},
   "cell_type": "markdown",
   "metadata": {},
   "source": [
    "## 1. Construyendo la BBDD"
   ]
  },
  {
   "attachments": {},
   "cell_type": "markdown",
   "metadata": {},
   "source": [
    "### a.- Creando la estructura"
   ]
  },
  {
   "cell_type": "code",
   "execution_count": 3,
   "metadata": {},
   "outputs": [],
   "source": [
    "# Conectamos con la base de datos\n",
    "conn = sqlite3.connect(\"Data/online_shop.db\")\n",
    "\n",
    "# Obtenemos un cursor que utilizaremos para hacer las queries\n",
    "cursor = conn.cursor()"
   ]
  },
  {
   "attachments": {},
   "cell_type": "markdown",
   "metadata": {},
   "source": [
    "### Funciones para obtener datos y ver en un dataframe"
   ]
  },
  {
   "cell_type": "code",
   "execution_count": 4,
   "metadata": {},
   "outputs": [],
   "source": [
    "# Con esta función leemos los datos y lo pasamos a un DataFrame de Pandas\n",
    "def sql_query(query):\n",
    "\n",
    "    # Ejecuta la query\n",
    "    cursor.execute(query)\n",
    "\n",
    "    # Almacena los datos de la query \n",
    "    ans = cursor.fetchall()\n",
    "\n",
    "    # Obtenemos los nombres de las columnas de la tabla\n",
    "    names = [description[0] for description in cursor.description]\n",
    "\n",
    "    return pd.DataFrame(ans,columns=names)"
   ]
  },
  {
   "cell_type": "code",
   "execution_count": 9,
   "metadata": {},
   "outputs": [
    {
     "name": "stdout",
     "output_type": "stream",
     "text": [
      "PRODUCT\n",
      "COMMENT\n",
      "TAGS\n"
     ]
    }
   ],
   "source": [
    "res = cursor.execute(\"SELECT name FROM sqlite_master WHERE type='table'\")\n",
    "for name in res:\n",
    "    print(name[0])"
   ]
  },
  {
   "attachments": {},
   "cell_type": "markdown",
   "metadata": {},
   "source": [
    "#### PRODUCT"
   ]
  },
  {
   "cell_type": "code",
   "execution_count": 6,
   "metadata": {},
   "outputs": [
    {
     "data": {
      "text/plain": [
       "<sqlite3.Cursor at 0x15f348c76c0>"
      ]
     },
     "execution_count": 6,
     "metadata": {},
     "output_type": "execute_result"
    }
   ],
   "source": [
    "query = '''\n",
    "CREATE TABLE PRODUCT  (\n",
    "    ID VARCHAR (3),\n",
    "    PRODUCT VARCHAR (100),\n",
    "    SLOGAN VARCHAR (100),\n",
    "    DESCRIPTION VARCHAR (250),\n",
    "    CHARACTERISTICS VARCHAR (250),\n",
    "    LISTA_URL VARCHAR (50),\n",
    "    REGULAR_PRICE INT (3),\n",
    "    DISCOUNT_PRICE INT (3),\n",
    "    PRIMARY KEY (ID)\n",
    ")\n",
    "\n",
    "'''\n",
    "\n",
    "\n",
    "cursor.execute(query)"
   ]
  },
  {
   "attachments": {},
   "cell_type": "markdown",
   "metadata": {},
   "source": [
    "#### COMMENTS"
   ]
  },
  {
   "cell_type": "code",
   "execution_count": 7,
   "metadata": {},
   "outputs": [
    {
     "data": {
      "text/plain": [
       "<sqlite3.Cursor at 0x15f348c76c0>"
      ]
     },
     "execution_count": 7,
     "metadata": {},
     "output_type": "execute_result"
    }
   ],
   "source": [
    "query = '''\n",
    "CREATE TABLE COMMENT  (\n",
    "    ID_COMMENT VARCHAR (5),\n",
    "    ID_PRODUCT VARCHAR (3),\n",
    "    DATE DATETIME (100),\n",
    "    RATIO INT (2),\n",
    "    USERS VARCHAR (50),\n",
    "    COMMENT VARCHAR (250), \n",
    "    PRIMARY KEY (ID_COMMENT),\n",
    "    FOREIGN KEY (ID_PRODUCT) REFERENCES PRODUCT (ID)\n",
    ")\n",
    "\n",
    "'''\n",
    "\n",
    "cursor.execute(query)"
   ]
  },
  {
   "attachments": {},
   "cell_type": "markdown",
   "metadata": {},
   "source": [
    "#### TAGS"
   ]
  },
  {
   "cell_type": "code",
   "execution_count": 8,
   "metadata": {},
   "outputs": [
    {
     "data": {
      "text/plain": [
       "<sqlite3.Cursor at 0x15f348c76c0>"
      ]
     },
     "execution_count": 8,
     "metadata": {},
     "output_type": "execute_result"
    }
   ],
   "source": [
    "query = '''\n",
    "CREATE TABLE TAGS  (\n",
    "    ID VARCHAR (3),\n",
    "    JUGUETES INT(1),\n",
    "    MUEBLES INT(1),\n",
    "    LENCERIA INT(1),\n",
    "    MASCULINO INT(1),\n",
    "    FEMININO INT(1),\n",
    "    ANAL INT(1),\n",
    "    BDSM INT(1),\n",
    "    AMENITIES INT(1),\n",
    "    PRIMARY KEY (ID),\n",
    "    FOREIGN KEY (ID) REFERENCES PRODUCT (ID)\n",
    ")\n",
    "\n",
    "'''\n",
    "\n",
    "# En esta tabla hay que convertir primeramente los booleanos en 0 y 1 para guardarla.\n",
    "# También es importante tener esto en cuenta a la hora de extraer la información.\n",
    "cursor.execute(query)"
   ]
  },
  {
   "attachments": {},
   "cell_type": "markdown",
   "metadata": {},
   "source": [
    "### b.- Cargando los datos dentro de la BBDD"
   ]
  },
  {
   "cell_type": "code",
   "execution_count": 10,
   "metadata": {},
   "outputs": [
    {
     "name": "stdout",
     "output_type": "stream",
     "text": [
      "Long. dataframe 8\n"
     ]
    },
    {
     "data": {
      "text/html": [
       "<div>\n",
       "<style scoped>\n",
       "    .dataframe tbody tr th:only-of-type {\n",
       "        vertical-align: middle;\n",
       "    }\n",
       "\n",
       "    .dataframe tbody tr th {\n",
       "        vertical-align: top;\n",
       "    }\n",
       "\n",
       "    .dataframe thead th {\n",
       "        text-align: right;\n",
       "    }\n",
       "</style>\n",
       "<table border=\"1\" class=\"dataframe\">\n",
       "  <thead>\n",
       "    <tr style=\"text-align: right;\">\n",
       "      <th></th>\n",
       "      <th>ID</th>\n",
       "      <th>PRODUCT</th>\n",
       "      <th>SLOGAN</th>\n",
       "      <th>DESCRIPTION</th>\n",
       "      <th>CHARACTERISTICS</th>\n",
       "      <th>LISTA_URL</th>\n",
       "      <th>REGULAR_PRICE</th>\n",
       "      <th>DISCOUNT_PRICE</th>\n",
       "    </tr>\n",
       "  </thead>\n",
       "  <tbody>\n",
       "    <tr>\n",
       "      <th>0</th>\n",
       "      <td>0</td>\n",
       "      <td>Desliz! Lubricante íntimo de agua 100ml</td>\n",
       "      <td>NaN</td>\n",
       "      <td>Algunos lubricantes son un poco densos, otros ...</td>\n",
       "      <td>Bote de 100ml de venta exclusiva en amantis.ne...</td>\n",
       "      <td>https://www.amantis.net/desliz-lubricante-inti...</td>\n",
       "      <td>9.99</td>\n",
       "      <td>7.99</td>\n",
       "    </tr>\n",
       "    <tr>\n",
       "      <th>1</th>\n",
       "      <td>1</td>\n",
       "      <td>LIZO 2</td>\n",
       "      <td>Dildo de suave silicona en 3 tamaños</td>\n",
       "      <td>En un azulejo de la cocina, en una puerta, en ...</td>\n",
       "      <td>Material: silicona médica de máxima calidadDim...</td>\n",
       "      <td>https://www.amantis.net/lizo-2-dildo-suave-sil...</td>\n",
       "      <td>59.99</td>\n",
       "      <td>17.99</td>\n",
       "    </tr>\n",
       "    <tr>\n",
       "      <th>2</th>\n",
       "      <td>2</td>\n",
       "      <td>FOXTAIL</td>\n",
       "      <td>plug anal cola de zorro de 35cm</td>\n",
       "      <td>Deja volar la imaginación y saca tu lado más s...</td>\n",
       "      <td>Tamaño plug S: 6.6cm Max Dia.: 2.8cmCola de pe...</td>\n",
       "      <td>https://www.amantis.net/foxtail-plug-anal-cola...</td>\n",
       "      <td>29.99</td>\n",
       "      <td>9.99</td>\n",
       "    </tr>\n",
       "    <tr>\n",
       "      <th>3</th>\n",
       "      <td>3</td>\n",
       "      <td>Vibrador Líquido con sabor Desliz! VIBRAGEL 30ml</td>\n",
       "      <td>hormigueo oral</td>\n",
       "      <td>¿Alguna vez has sentido un hormigueo en lo más...</td>\n",
       "      <td>Ingredientes: agua, glicerina, hidroxietilcelu...</td>\n",
       "      <td>https://www.amantis.net/desliz-vibragel-liquid...</td>\n",
       "      <td>29.99</td>\n",
       "      <td>9.99</td>\n",
       "    </tr>\n",
       "    <tr>\n",
       "      <th>4</th>\n",
       "      <td>4</td>\n",
       "      <td>Bacanal FORTE TARRO 200ml</td>\n",
       "      <td>lubricante anal concentrado con aloe</td>\n",
       "      <td>Si alguna vez has pensado que el sexo anal es ...</td>\n",
       "      <td>Su textura no es grasa y no mancha. Compatible...</td>\n",
       "      <td>https://www.amantis.net/bacanal-forte-tarro-20...</td>\n",
       "      <td>24.99</td>\n",
       "      <td>24.99</td>\n",
       "    </tr>\n",
       "  </tbody>\n",
       "</table>\n",
       "</div>"
      ],
      "text/plain": [
       "   ID                                           PRODUCT  \\\n",
       "0   0           Desliz! Lubricante íntimo de agua 100ml   \n",
       "1   1                                            LIZO 2   \n",
       "2   2                                           FOXTAIL   \n",
       "3   3  Vibrador Líquido con sabor Desliz! VIBRAGEL 30ml   \n",
       "4   4                         Bacanal FORTE TARRO 200ml   \n",
       "\n",
       "                                 SLOGAN  \\\n",
       "0                                   NaN   \n",
       "1  Dildo de suave silicona en 3 tamaños   \n",
       "2       plug anal cola de zorro de 35cm   \n",
       "3                        hormigueo oral   \n",
       "4  lubricante anal concentrado con aloe   \n",
       "\n",
       "                                         DESCRIPTION  \\\n",
       "0  Algunos lubricantes son un poco densos, otros ...   \n",
       "1  En un azulejo de la cocina, en una puerta, en ...   \n",
       "2  Deja volar la imaginación y saca tu lado más s...   \n",
       "3  ¿Alguna vez has sentido un hormigueo en lo más...   \n",
       "4  Si alguna vez has pensado que el sexo anal es ...   \n",
       "\n",
       "                                     CHARACTERISTICS  \\\n",
       "0  Bote de 100ml de venta exclusiva en amantis.ne...   \n",
       "1  Material: silicona médica de máxima calidadDim...   \n",
       "2  Tamaño plug S: 6.6cm Max Dia.: 2.8cmCola de pe...   \n",
       "3  Ingredientes: agua, glicerina, hidroxietilcelu...   \n",
       "4  Su textura no es grasa y no mancha. Compatible...   \n",
       "\n",
       "                                           LISTA_URL  REGULAR_PRICE  \\\n",
       "0  https://www.amantis.net/desliz-lubricante-inti...           9.99   \n",
       "1  https://www.amantis.net/lizo-2-dildo-suave-sil...          59.99   \n",
       "2  https://www.amantis.net/foxtail-plug-anal-cola...          29.99   \n",
       "3  https://www.amantis.net/desliz-vibragel-liquid...          29.99   \n",
       "4  https://www.amantis.net/bacanal-forte-tarro-20...          24.99   \n",
       "\n",
       "   DISCOUNT_PRICE  \n",
       "0            7.99  \n",
       "1           17.99  \n",
       "2            9.99  \n",
       "3            9.99  \n",
       "4           24.99  "
      ]
     },
     "execution_count": 10,
     "metadata": {},
     "output_type": "execute_result"
    }
   ],
   "source": [
    "df_products=pd.read_csv(r'Data\\productos.csv')\n",
    "print(\"Long. dataframe\",len(df_products.columns))\n",
    "df_products.head()"
   ]
  },
  {
   "cell_type": "code",
   "execution_count": 11,
   "metadata": {},
   "outputs": [
    {
     "name": "stdout",
     "output_type": "stream",
     "text": [
      "Long. dataframe 6\n"
     ]
    },
    {
     "data": {
      "text/plain": [
       "<bound method NDFrame.head of        ID_COMMENT  ID_PRODUCT                        DATE  RATIO  \\\n",
       "0               0           0        jueves 18 mayo, 2023      5   \n",
       "1               1           0    miércoles 12 abril, 2023      5   \n",
       "2               2           0        lunes 10 abril, 2023      5   \n",
       "3               3           0        lunes 23 enero, 2023      5   \n",
       "4               4           0    miércoles 11 enero, 2023      5   \n",
       "...           ...         ...                         ...    ...   \n",
       "10328       11370         575      viernes 22 enero, 2016      5   \n",
       "10329       11371         575  viernes 26 diciembre, 2014      4   \n",
       "10330       11372         575   martes 09 diciembre, 2014      4   \n",
       "10331       11373         575   martes 09 diciembre, 2014      5   \n",
       "10332       11374         575   jueves 04 diciembre, 2014      5   \n",
       "\n",
       "              USERS                                            COMMENT  \n",
       "0             David  Muy recomendable. El bote cunde, hidrata muy b...  \n",
       "1            Ferran  Es la primera vez que compro este lubricante y...  \n",
       "2            Sergio  He probado varios tipos de lubricante y este d...  \n",
       "3             Jaime  Perfecto para embadurnarte el pincelin y meter...  \n",
       "4           YASMINA  Buen producto, tanto para el cuerpo a cuerpo c...  \n",
       "...             ...                                                ...  \n",
       "10328          Luis  Ya te vayan los juegos de dominación o no...co...  \n",
       "10329           Ana  Hola, es la primera vez que adquiero artículos...  \n",
       "10330        Robert  Muy provocativo, y estimulante, con muy buena ...  \n",
       "10331  Jose Antonio  Conjunto perfecto para que mi chica se ponga e...  \n",
       "10332       Hilario  mi novia me sorprendio con este conjunto y a p...  \n",
       "\n",
       "[10333 rows x 6 columns]>"
      ]
     },
     "execution_count": 11,
     "metadata": {},
     "output_type": "execute_result"
    }
   ],
   "source": [
    "df_comments=pd.read_csv(r'Data\\comentarios.csv',index_col=False)\n",
    "print(\"Long. dataframe\",len(df_comments.columns))\n",
    "df_comments.rename(columns={\"ID\":\"ID_PRODUCT\",\"Unnamed: 0\":\"ID_COMMENT\"},inplace=True)\n",
    "df_comments.head"
   ]
  },
  {
   "cell_type": "code",
   "execution_count": 12,
   "metadata": {},
   "outputs": [
    {
     "data": {
      "text/plain": [
       "<sqlite3.Cursor at 0x15f348c76c0>"
      ]
     },
     "execution_count": 12,
     "metadata": {},
     "output_type": "execute_result"
    }
   ],
   "source": [
    "lista_products= df_products.values.tolist()                                                #   Pasamos a lista el dataframe\n",
    "\n",
    "cursor.executemany(\"INSERT INTO PRODUCT VALUES (?,?,?,?,?,?,?,?)\", lista_products)           #   Salvamos directamente todos los datos en la tabla PRODUCTS\n",
    "\n",
    "lista_comments= df_comments.values.tolist()                                                #   Pasamos a lista el dataframe\n",
    "\n",
    "cursor.executemany(\"INSERT INTO COMMENT VALUES (?,?,?,?,?,?)\", lista_comments)                 #   Salvamos directamente todos los datos en la tabla COMMENTS"
   ]
  },
  {
   "cell_type": "code",
   "execution_count": 13,
   "metadata": {},
   "outputs": [],
   "source": [
    "conn.commit()\n",
    "cursor.close()\n",
    "conn.close()"
   ]
  },
  {
   "attachments": {},
   "cell_type": "markdown",
   "metadata": {},
   "source": [
    "## 2. Realizando consultas para visualizar datos."
   ]
  },
  {
   "cell_type": "code",
   "execution_count": null,
   "metadata": {},
   "outputs": [],
   "source": [
    "# Conectamos con la base de datos\n",
    "conn = sqlite3.connect(\"Data/online_shop.db\")\n",
    "\n",
    "# Obtenemos un cursor que utilizaremos para hacer las queries\n",
    "cursor = conn.cursor()"
   ]
  },
  {
   "cell_type": "code",
   "execution_count": null,
   "metadata": {},
   "outputs": [],
   "source": [
    "# # Establecer los parámetros de conexión\n",
    "# config = {\n",
    "#     'user': user,\n",
    "#     'password': password,\n",
    "#     'host': host,\n",
    "#     'database_name':database_name,\n",
    "#     'raise_on_warnings': True\n",
    "# }\n",
    "\n",
    "# # Establecer la conexión\n",
    "# conn = mysql.connector.connect(**config)\n",
    "\n",
    "# # Crear el cursor\n",
    "# cursor = conn.cursor()"
   ]
  },
  {
   "cell_type": "code",
   "execution_count": null,
   "metadata": {},
   "outputs": [],
   "source": []
  },
  {
   "attachments": {},
   "cell_type": "markdown",
   "metadata": {},
   "source": [
    "## Cerramos la BBDD."
   ]
  },
  {
   "cell_type": "code",
   "execution_count": 47,
   "metadata": {},
   "outputs": [],
   "source": [
    "conn.commit()\n",
    "cursor.close()\n",
    "conn.close()"
   ]
  }
 ],
 "metadata": {
  "kernelspec": {
   "display_name": "Python 3",
   "language": "python",
   "name": "python3"
  },
  "language_info": {
   "codemirror_mode": {
    "name": "ipython",
    "version": 3
   },
   "file_extension": ".py",
   "mimetype": "text/x-python",
   "name": "python",
   "nbconvert_exporter": "python",
   "pygments_lexer": "ipython3",
   "version": "3.10.11"
  },
  "orig_nbformat": 4
 },
 "nbformat": 4,
 "nbformat_minor": 2
}

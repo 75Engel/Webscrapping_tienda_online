{
 "cells": [
  {
   "attachments": {},
   "cell_type": "markdown",
   "metadata": {},
   "source": [
    "# Almacenamiento de datos"
   ]
  },
  {
   "attachments": {},
   "cell_type": "markdown",
   "metadata": {},
   "source": [
    "## Introducción\n",
    "\n",
    "Vamos a generar una BBDD Relacional para el almacenamiento de los registros que hemos obtenido hasta ahora.\n",
    "\n",
    "En este momento del proyecto (mayo/23) prepararemos una base de datos con 2 Tablas y posteriormente generaremos una tercera tabla con las variables que habremos generado en el notebook de Engineering para generar #tags. "
   ]
  },
  {
   "attachments": {},
   "cell_type": "markdown",
   "metadata": {},
   "source": [
    "## Librerías"
   ]
  },
  {
   "cell_type": "code",
   "execution_count": 1,
   "metadata": {},
   "outputs": [],
   "source": [
    "import pandas as pd\n",
    "import numpy as np\n",
    "import os\n",
    "from datetime import datetime\n",
    "import sqlite3\n",
    "# import mysql.connector\n"
   ]
  },
  {
   "cell_type": "code",
   "execution_count": 2,
   "metadata": {},
   "outputs": [
    {
     "data": {
      "text/plain": [
       "'d:\\\\Data_science\\\\Javier\\\\Repositorios\\\\Proyecto_tienda_online_webscrapping\\\\src'"
      ]
     },
     "execution_count": 2,
     "metadata": {},
     "output_type": "execute_result"
    }
   ],
   "source": [
    "os.chdir(os.path.split(os.getcwd())[0])\n",
    "folder=os.getcwd()\n",
    "folder"
   ]
  },
  {
   "attachments": {},
   "cell_type": "markdown",
   "metadata": {},
   "source": [
    "## Estructuras de la BBDD"
   ]
  },
  {
   "attachments": {},
   "cell_type": "markdown",
   "metadata": {},
   "source": [
    "![Estructura_tablas](../Resources/image/Relacion_tablas.jpg)"
   ]
  },
  {
   "attachments": {},
   "cell_type": "markdown",
   "metadata": {},
   "source": [
    "## 1. Construyendo la BBDD"
   ]
  },
  {
   "attachments": {},
   "cell_type": "markdown",
   "metadata": {},
   "source": [
    "### a.- Creando la estructura"
   ]
  },
  {
   "cell_type": "code",
   "execution_count": 3,
   "metadata": {},
   "outputs": [],
   "source": [
    "# Conectamos con la base de datos\n",
    "conn = sqlite3.connect(\"Data/online_shop.db\")\n",
    "\n",
    "# Obtenemos un cursor que utilizaremos para hacer las queries\n",
    "cursor = conn.cursor()"
   ]
  },
  {
   "attachments": {},
   "cell_type": "markdown",
   "metadata": {},
   "source": [
    "### Funciones para obtener datos y ver en un dataframe"
   ]
  },
  {
   "cell_type": "code",
   "execution_count": 4,
   "metadata": {},
   "outputs": [],
   "source": [
    "# Con esta función leemos los datos y lo pasamos a un DataFrame de Pandas\n",
    "def sql_query(query):\n",
    "\n",
    "    # Ejecuta la query\n",
    "    cursor.execute(query)\n",
    "\n",
    "    # Almacena los datos de la query \n",
    "    ans = cursor.fetchall()\n",
    "\n",
    "    # Obtenemos los nombres de las columnas de la tabla\n",
    "    names = [description[0] for description in cursor.description]\n",
    "\n",
    "    return pd.DataFrame(ans,columns=names)"
   ]
  },
  {
   "cell_type": "code",
   "execution_count": 5,
   "metadata": {},
   "outputs": [
    {
     "name": "stdout",
     "output_type": "stream",
     "text": [
      "PRODUCT\n",
      "COMMENT\n"
     ]
    }
   ],
   "source": [
    "res = cursor.execute(\"SELECT name FROM sqlite_master WHERE type='table'\")\n",
    "for name in res:\n",
    "    print(name[0])"
   ]
  },
  {
   "attachments": {},
   "cell_type": "markdown",
   "metadata": {},
   "source": [
    "#### PRODUCT"
   ]
  },
  {
   "cell_type": "code",
   "execution_count": 7,
   "metadata": {},
   "outputs": [
    {
     "data": {
      "text/plain": [
       "<sqlite3.Cursor at 0x29258842540>"
      ]
     },
     "execution_count": 7,
     "metadata": {},
     "output_type": "execute_result"
    }
   ],
   "source": [
    "query = '''\n",
    "CREATE TABLE PRODUCT  (\n",
    "    ID VARCHAR (3),\n",
    "    PRODUCT VARCHAR (100),\n",
    "    SLOGAN VARCHAR (100),\n",
    "    DESCRIPTION VARCHAR (250),\n",
    "    CHARACTERISTICS VARCHAR (250),\n",
    "    LISTA_URL VARCHAR (50),\n",
    "    REGULAR_PRICE INT (3),\n",
    "    DISCOUNT_PRICE INT (3),\n",
    "    PRIMARY KEY (ID)\n",
    ")\n",
    "\n",
    "'''\n",
    "\n",
    "\n",
    "cursor.execute(query)"
   ]
  },
  {
   "attachments": {},
   "cell_type": "markdown",
   "metadata": {},
   "source": [
    "#### COMMENTS"
   ]
  },
  {
   "cell_type": "code",
   "execution_count": 8,
   "metadata": {},
   "outputs": [
    {
     "data": {
      "text/plain": [
       "<sqlite3.Cursor at 0x29258842540>"
      ]
     },
     "execution_count": 8,
     "metadata": {},
     "output_type": "execute_result"
    }
   ],
   "source": [
    "query = '''\n",
    "CREATE TABLE COMMENT  (\n",
    "    ID_COMMENT VARCHAR (5),\n",
    "    ID_PRODUCT VARCHAR (3),\n",
    "    DATE DATETIME (100),\n",
    "    RATIO INT (2),\n",
    "    USERS VARCHAR (50),\n",
    "    COMMENT VARCHAR (250), \n",
    "    PRIMARY KEY (ID_COMMENT),\n",
    "    FOREIGN KEY (ID_PRODUCT) REFERENCES PRODUCT (ID)\n",
    ")\n",
    "\n",
    "'''\n",
    "\n",
    "cursor.execute(query)"
   ]
  },
  {
   "attachments": {},
   "cell_type": "markdown",
   "metadata": {},
   "source": [
    "### b.- Cargando los datos dentro de la BBDD"
   ]
  },
  {
   "cell_type": "code",
   "execution_count": 6,
   "metadata": {},
   "outputs": [
    {
     "name": "stdout",
     "output_type": "stream",
     "text": [
      "Long. dataframe 8\n"
     ]
    },
    {
     "data": {
      "text/html": [
       "<div>\n",
       "<style scoped>\n",
       "    .dataframe tbody tr th:only-of-type {\n",
       "        vertical-align: middle;\n",
       "    }\n",
       "\n",
       "    .dataframe tbody tr th {\n",
       "        vertical-align: top;\n",
       "    }\n",
       "\n",
       "    .dataframe thead th {\n",
       "        text-align: right;\n",
       "    }\n",
       "</style>\n",
       "<table border=\"1\" class=\"dataframe\">\n",
       "  <thead>\n",
       "    <tr style=\"text-align: right;\">\n",
       "      <th></th>\n",
       "      <th>ID</th>\n",
       "      <th>PRODUCT</th>\n",
       "      <th>SLOGAN</th>\n",
       "      <th>DESCRIPTION</th>\n",
       "      <th>CHARACTERISTICS</th>\n",
       "      <th>LISTA_URL</th>\n",
       "      <th>REGULAR_PRICE</th>\n",
       "      <th>DISCOUNT_PRICE</th>\n",
       "    </tr>\n",
       "  </thead>\n",
       "  <tbody>\n",
       "    <tr>\n",
       "      <th>0</th>\n",
       "      <td>0</td>\n",
       "      <td>Desliz! Lubricante íntimo de agua 100ml</td>\n",
       "      <td>NaN</td>\n",
       "      <td>Algunos lubricantes son un poco densos, otros ...</td>\n",
       "      <td>Bote de 100ml de venta exclusiva en amantis.ne...</td>\n",
       "      <td>https://www.amantis.net/desliz-lubricante-inti...</td>\n",
       "      <td>9.99</td>\n",
       "      <td>7.99</td>\n",
       "    </tr>\n",
       "    <tr>\n",
       "      <th>1</th>\n",
       "      <td>1</td>\n",
       "      <td>TOBOGANE HOT RABBIT</td>\n",
       "      <td>el superventas de amantis ¡mejorado!</td>\n",
       "      <td>Vuelve nuestro vibrador de doble estimulación ...</td>\n",
       "      <td>Medidas: 19cm (11cm insertables) y 3,3cm/ 2,2c...</td>\n",
       "      <td>https://www.amantis.net/tobogane-hot-rabbit-el...</td>\n",
       "      <td>89.99</td>\n",
       "      <td>39.99</td>\n",
       "    </tr>\n",
       "    <tr>\n",
       "      <th>2</th>\n",
       "      <td>2</td>\n",
       "      <td>BALLENATO</td>\n",
       "      <td>tu vibrador a distancia con aleta móvil y sume...</td>\n",
       "      <td>De las profundidades más húmedas llega BALLENA...</td>\n",
       "      <td>Mando a distancia.Peso 62 gramos.Silicona médi...</td>\n",
       "      <td>https://www.amantis.net/ballenato-tu-vibrador-...</td>\n",
       "      <td>99.99</td>\n",
       "      <td>49.99</td>\n",
       "    </tr>\n",
       "    <tr>\n",
       "      <th>3</th>\n",
       "      <td>3</td>\n",
       "      <td>TANDEM 2 flex</td>\n",
       "      <td>vibrador doble flexible con mando</td>\n",
       "      <td>Tanto si ya eras fan de nuestro querido TANDEM...</td>\n",
       "      <td>10 patrones de vibración diferentes y tres niv...</td>\n",
       "      <td>https://www.amantis.net/tandem-2-flex-vibrador...</td>\n",
       "      <td>109.99</td>\n",
       "      <td>49.99</td>\n",
       "    </tr>\n",
       "    <tr>\n",
       "      <th>4</th>\n",
       "      <td>4</td>\n",
       "      <td>FOXY</td>\n",
       "      <td>Succionador con mango vibrador y orejitas</td>\n",
       "      <td>Los succionadores van evolucionando, vamos des...</td>\n",
       "      <td>Vibrador con orejitas y succión simultáneaMate...</td>\n",
       "      <td>https://www.amantis.net/foxy-vibrador-succiona...</td>\n",
       "      <td>59.99</td>\n",
       "      <td>39.99</td>\n",
       "    </tr>\n",
       "  </tbody>\n",
       "</table>\n",
       "</div>"
      ],
      "text/plain": [
       "   ID                                  PRODUCT  \\\n",
       "0   0  Desliz! Lubricante íntimo de agua 100ml   \n",
       "1   1                      TOBOGANE HOT RABBIT   \n",
       "2   2                                BALLENATO   \n",
       "3   3                            TANDEM 2 flex   \n",
       "4   4                                     FOXY   \n",
       "\n",
       "                                              SLOGAN  \\\n",
       "0                                                NaN   \n",
       "1               el superventas de amantis ¡mejorado!   \n",
       "2  tu vibrador a distancia con aleta móvil y sume...   \n",
       "3                  vibrador doble flexible con mando   \n",
       "4          Succionador con mango vibrador y orejitas   \n",
       "\n",
       "                                         DESCRIPTION  \\\n",
       "0  Algunos lubricantes son un poco densos, otros ...   \n",
       "1  Vuelve nuestro vibrador de doble estimulación ...   \n",
       "2  De las profundidades más húmedas llega BALLENA...   \n",
       "3  Tanto si ya eras fan de nuestro querido TANDEM...   \n",
       "4  Los succionadores van evolucionando, vamos des...   \n",
       "\n",
       "                                     CHARACTERISTICS  \\\n",
       "0  Bote de 100ml de venta exclusiva en amantis.ne...   \n",
       "1  Medidas: 19cm (11cm insertables) y 3,3cm/ 2,2c...   \n",
       "2  Mando a distancia.Peso 62 gramos.Silicona médi...   \n",
       "3  10 patrones de vibración diferentes y tres niv...   \n",
       "4  Vibrador con orejitas y succión simultáneaMate...   \n",
       "\n",
       "                                           LISTA_URL  REGULAR_PRICE  \\\n",
       "0  https://www.amantis.net/desliz-lubricante-inti...           9.99   \n",
       "1  https://www.amantis.net/tobogane-hot-rabbit-el...          89.99   \n",
       "2  https://www.amantis.net/ballenato-tu-vibrador-...          99.99   \n",
       "3  https://www.amantis.net/tandem-2-flex-vibrador...         109.99   \n",
       "4  https://www.amantis.net/foxy-vibrador-succiona...          59.99   \n",
       "\n",
       "   DISCOUNT_PRICE  \n",
       "0            7.99  \n",
       "1           39.99  \n",
       "2           49.99  \n",
       "3           49.99  \n",
       "4           39.99  "
      ]
     },
     "execution_count": 6,
     "metadata": {},
     "output_type": "execute_result"
    }
   ],
   "source": [
    "df_products=pd.read_csv(r'Data\\productos.csv')\n",
    "print(\"Long. dataframe\",len(df_products.columns))\n",
    "df_products.head()"
   ]
  },
  {
   "cell_type": "code",
   "execution_count": 20,
   "metadata": {},
   "outputs": [
    {
     "name": "stdout",
     "output_type": "stream",
     "text": [
      "Long. dataframe 6\n"
     ]
    },
    {
     "data": {
      "text/html": [
       "<div>\n",
       "<style scoped>\n",
       "    .dataframe tbody tr th:only-of-type {\n",
       "        vertical-align: middle;\n",
       "    }\n",
       "\n",
       "    .dataframe tbody tr th {\n",
       "        vertical-align: top;\n",
       "    }\n",
       "\n",
       "    .dataframe thead th {\n",
       "        text-align: right;\n",
       "    }\n",
       "</style>\n",
       "<table border=\"1\" class=\"dataframe\">\n",
       "  <thead>\n",
       "    <tr style=\"text-align: right;\">\n",
       "      <th></th>\n",
       "      <th>ID_COMMENT</th>\n",
       "      <th>ID_PRODUCT</th>\n",
       "      <th>DATE</th>\n",
       "      <th>RATIO</th>\n",
       "      <th>USERS</th>\n",
       "      <th>COMMENT</th>\n",
       "    </tr>\n",
       "  </thead>\n",
       "  <tbody>\n",
       "    <tr>\n",
       "      <th>0</th>\n",
       "      <td>0</td>\n",
       "      <td>0</td>\n",
       "      <td>2023-05-18</td>\n",
       "      <td>5</td>\n",
       "      <td>David</td>\n",
       "      <td>Muy recomendable. El bote cunde, hidrata muy b...</td>\n",
       "    </tr>\n",
       "    <tr>\n",
       "      <th>1</th>\n",
       "      <td>1</td>\n",
       "      <td>0</td>\n",
       "      <td>2023-04-12</td>\n",
       "      <td>5</td>\n",
       "      <td>Ferran</td>\n",
       "      <td>Es la primera vez que compro este lubricante y...</td>\n",
       "    </tr>\n",
       "    <tr>\n",
       "      <th>2</th>\n",
       "      <td>2</td>\n",
       "      <td>0</td>\n",
       "      <td>2023-04-10</td>\n",
       "      <td>5</td>\n",
       "      <td>Sergio</td>\n",
       "      <td>He probado varios tipos de lubricante y este d...</td>\n",
       "    </tr>\n",
       "    <tr>\n",
       "      <th>3</th>\n",
       "      <td>3</td>\n",
       "      <td>0</td>\n",
       "      <td>2023-01-23</td>\n",
       "      <td>5</td>\n",
       "      <td>Jaime</td>\n",
       "      <td>Perfecto para embadurnarte el pincelin y meter...</td>\n",
       "    </tr>\n",
       "    <tr>\n",
       "      <th>4</th>\n",
       "      <td>4</td>\n",
       "      <td>0</td>\n",
       "      <td>2023-01-11</td>\n",
       "      <td>5</td>\n",
       "      <td>YASMINA</td>\n",
       "      <td>Buen producto, tanto para el cuerpo a cuerpo c...</td>\n",
       "    </tr>\n",
       "  </tbody>\n",
       "</table>\n",
       "</div>"
      ],
      "text/plain": [
       "   ID_COMMENT  ID_PRODUCT        DATE  RATIO    USERS  \\\n",
       "0           0           0  2023-05-18      5    David   \n",
       "1           1           0  2023-04-12      5   Ferran   \n",
       "2           2           0  2023-04-10      5   Sergio   \n",
       "3           3           0  2023-01-23      5    Jaime   \n",
       "4           4           0  2023-01-11      5  YASMINA   \n",
       "\n",
       "                                             COMMENT  \n",
       "0  Muy recomendable. El bote cunde, hidrata muy b...  \n",
       "1  Es la primera vez que compro este lubricante y...  \n",
       "2  He probado varios tipos de lubricante y este d...  \n",
       "3  Perfecto para embadurnarte el pincelin y meter...  \n",
       "4  Buen producto, tanto para el cuerpo a cuerpo c...  "
      ]
     },
     "execution_count": 20,
     "metadata": {},
     "output_type": "execute_result"
    }
   ],
   "source": [
    "# df_comments=pd.read_csv(r'Data\\comentarios_scrape.csv',index_col=False)\n",
    "df_comments=pd.read_csv(r'Data\\comentarios.csv',index_col=False)\n",
    "df_comments.rename(columns={\"ID\":\"ID_PRODUCT\",\"Unnamed: 0\":\"ID_COMMENT\"},inplace=True)\n",
    "# df_comments['DATE'] = pd.to_datetime(df_comments.iloc[:,-3:])\n",
    "# df_comments=df_comments.iloc[:,:-3].head()                                                  # Eliminamos las columnas temporales creadas\n",
    "print(\"Long. dataframe\",len(df_comments.columns))\n",
    "df_comments.head()"
   ]
  },
  {
   "cell_type": "code",
   "execution_count": 21,
   "metadata": {},
   "outputs": [
    {
     "name": "stdout",
     "output_type": "stream",
     "text": [
      "<class 'pandas.core.frame.DataFrame'>\n",
      "RangeIndex: 10659 entries, 0 to 10658\n",
      "Data columns (total 6 columns):\n",
      " #   Column      Non-Null Count  Dtype \n",
      "---  ------      --------------  ----- \n",
      " 0   ID_COMMENT  10659 non-null  int64 \n",
      " 1   ID_PRODUCT  10659 non-null  int64 \n",
      " 2   DATE        10659 non-null  object\n",
      " 3   RATIO       10659 non-null  int64 \n",
      " 4   USERS       10648 non-null  object\n",
      " 5   COMMENT     10659 non-null  object\n",
      "dtypes: int64(3), object(3)\n",
      "memory usage: 499.8+ KB\n"
     ]
    }
   ],
   "source": [
    "df_comments.info()"
   ]
  },
  {
   "cell_type": "code",
   "execution_count": 22,
   "metadata": {},
   "outputs": [
    {
     "data": {
      "text/plain": [
       "<sqlite3.Cursor at 0x2925a3e17c0>"
      ]
     },
     "execution_count": 22,
     "metadata": {},
     "output_type": "execute_result"
    }
   ],
   "source": [
    "lista_products= df_products.values.tolist()                                                #   Pasamos a lista el dataframe\n",
    "\n",
    "cursor.executemany(\"INSERT INTO PRODUCT VALUES (?,?,?,?,?,?,?,?)\", lista_products)           #   Salvamos directamente todos los datos en la tabla PRODUCTS\n",
    "\n",
    "lista_comments= df_comments.values.tolist()                                                #   Pasamos a lista el dataframe\n",
    "\n",
    "cursor.executemany(\"INSERT INTO COMMENT VALUES (?,?,?,?,?,?)\", lista_comments)                 #   Salvamos directamente todos los datos en la tabla COMMENTS"
   ]
  },
  {
   "cell_type": "code",
   "execution_count": 23,
   "metadata": {},
   "outputs": [],
   "source": [
    "conn.commit()\n",
    "cursor.close()\n",
    "conn.close()"
   ]
  },
  {
   "attachments": {},
   "cell_type": "markdown",
   "metadata": {},
   "source": [
    "## Cerramos la BBDD."
   ]
  },
  {
   "cell_type": "code",
   "execution_count": 7,
   "metadata": {},
   "outputs": [],
   "source": [
    "conn.commit()\n",
    "cursor.close()\n",
    "conn.close()"
   ]
  }
 ],
 "metadata": {
  "kernelspec": {
   "display_name": "Python 3",
   "language": "python",
   "name": "python3"
  },
  "language_info": {
   "codemirror_mode": {
    "name": "ipython",
    "version": 3
   },
   "file_extension": ".py",
   "mimetype": "text/x-python",
   "name": "python",
   "nbconvert_exporter": "python",
   "pygments_lexer": "ipython3",
   "version": "3.10.11"
  },
  "orig_nbformat": 4
 },
 "nbformat": 4,
 "nbformat_minor": 2
}
